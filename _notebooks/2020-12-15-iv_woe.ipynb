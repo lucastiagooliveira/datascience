{
 "cells": [
  {
   "cell_type": "markdown",
   "metadata": {},
   "source": [
    "# \"Como calcular IV e WOE no Python\"\n",
    "> Tutorial de como calcular o *Information Value* e *Weight of Evidence*.\n",
    "\n",
    "- toc: false\n",
    "- badges: true\n",
    "- comments: true\n",
    "- categories: [iv, woe, python]\n",
    "- image:"
   ]
  },
  {
   "cell_type": "code",
   "execution_count": 1,
   "metadata": {},
   "outputs": [],
   "source": [
    "#Bibliotecas necessárias\n",
    "import pandas as pd\n",
    "import numpy as np"
   ]
  },
  {
   "cell_type": "markdown",
   "metadata": {},
   "source": [
    "Importando a base de dados utilizada no exemplo."
   ]
  },
  {
   "cell_type": "code",
   "execution_count": 2,
   "metadata": {},
   "outputs": [
    {
     "data": {
      "text/html": [
       "<div>\n",
       "<style scoped>\n",
       "    .dataframe tbody tr th:only-of-type {\n",
       "        vertical-align: middle;\n",
       "    }\n",
       "\n",
       "    .dataframe tbody tr th {\n",
       "        vertical-align: top;\n",
       "    }\n",
       "\n",
       "    .dataframe thead th {\n",
       "        text-align: right;\n",
       "    }\n",
       "</style>\n",
       "<table border=\"1\" class=\"dataframe\">\n",
       "  <thead>\n",
       "    <tr style=\"text-align: right;\">\n",
       "      <th></th>\n",
       "      <th>idade</th>\n",
       "      <th>experiencia</th>\n",
       "      <th>tempo_endereco</th>\n",
       "      <th>renda</th>\n",
       "      <th>debito_renda</th>\n",
       "      <th>cred_deb</th>\n",
       "      <th>outros_debitos</th>\n",
       "      <th>classif</th>\n",
       "    </tr>\n",
       "  </thead>\n",
       "  <tbody>\n",
       "    <tr>\n",
       "      <th>0</th>\n",
       "      <td>41</td>\n",
       "      <td>17</td>\n",
       "      <td>12</td>\n",
       "      <td>35.9</td>\n",
       "      <td>11.90</td>\n",
       "      <td>0.504108</td>\n",
       "      <td>3.767992</td>\n",
       "      <td>0</td>\n",
       "    </tr>\n",
       "    <tr>\n",
       "      <th>1</th>\n",
       "      <td>30</td>\n",
       "      <td>13</td>\n",
       "      <td>8</td>\n",
       "      <td>46.7</td>\n",
       "      <td>17.88</td>\n",
       "      <td>1.352694</td>\n",
       "      <td>6.997266</td>\n",
       "      <td>0</td>\n",
       "    </tr>\n",
       "    <tr>\n",
       "      <th>2</th>\n",
       "      <td>40</td>\n",
       "      <td>15</td>\n",
       "      <td>14</td>\n",
       "      <td>61.8</td>\n",
       "      <td>10.64</td>\n",
       "      <td>3.438997</td>\n",
       "      <td>3.136523</td>\n",
       "      <td>0</td>\n",
       "    </tr>\n",
       "    <tr>\n",
       "      <th>3</th>\n",
       "      <td>41</td>\n",
       "      <td>15</td>\n",
       "      <td>14</td>\n",
       "      <td>72.0</td>\n",
       "      <td>29.67</td>\n",
       "      <td>4.165668</td>\n",
       "      <td>17.196732</td>\n",
       "      <td>0</td>\n",
       "    </tr>\n",
       "    <tr>\n",
       "      <th>4</th>\n",
       "      <td>57</td>\n",
       "      <td>7</td>\n",
       "      <td>37</td>\n",
       "      <td>25.6</td>\n",
       "      <td>15.86</td>\n",
       "      <td>1.498199</td>\n",
       "      <td>2.561961</td>\n",
       "      <td>0</td>\n",
       "    </tr>\n",
       "  </tbody>\n",
       "</table>\n",
       "</div>"
      ],
      "text/plain": [
       "   idade  experiencia  tempo_endereco  renda  debito_renda  cred_deb  \\\n",
       "0     41           17              12   35.9         11.90  0.504108   \n",
       "1     30           13               8   46.7         17.88  1.352694   \n",
       "2     40           15              14   61.8         10.64  3.438997   \n",
       "3     41           15              14   72.0         29.67  4.165668   \n",
       "4     57            7              37   25.6         15.86  1.498199   \n",
       "\n",
       "   outros_debitos  classif  \n",
       "0        3.767992        0  \n",
       "1        6.997266        0  \n",
       "2        3.136523        0  \n",
       "3       17.196732        0  \n",
       "4        2.561961        0  "
      ]
     },
     "execution_count": 2,
     "metadata": {},
     "output_type": "execute_result"
    }
   ],
   "source": [
    "df = pd.read_excel(\"CasoUso_02_Emprestimo_Bancario.xlsx\", sheet_name='BASE DE DADOS')\n",
    "df.head()"
   ]
  },
  {
   "cell_type": "markdown",
   "metadata": {},
   "source": [
    "Definindo a função que será utilizada para calcular o iv e woe {% fn 1 %}.\n",
    "\n",
    "{{ \"[Fonte](https://www.listendata.com/2015/03/weight-of-evidence-woe-and-information.html)\" | fndetail: 1 }}"
   ]
  },
  {
   "cell_type": "code",
   "execution_count": 4,
   "metadata": {},
   "outputs": [],
   "source": [
    "def iv_woe(data, target, bins=10, show_woe=False):\n",
    "    \n",
    "    #Empty Dataframe\n",
    "    newDF,woeDF = pd.DataFrame(), pd.DataFrame()\n",
    "    \n",
    "    #Extract Column Names\n",
    "    cols = data.columns\n",
    "    \n",
    "    #Run WOE and IV on all the independent variables\n",
    "    for ivars in cols[~cols.isin([target])]:\n",
    "        if (data[ivars].dtype.kind in 'bifc') and (len(np.unique(data[ivars]))>10):\n",
    "            binned_x = pd.qcut(data[ivars], bins,  duplicates='drop')\n",
    "            d0 = pd.DataFrame({'x': binned_x, 'y': data[target]})\n",
    "        else:\n",
    "            d0 = pd.DataFrame({'x': data[ivars], 'y': data[target]})\n",
    "        d = d0.groupby(\"x\", as_index=False).agg({\"y\": [\"count\", \"sum\"]})\n",
    "        d.columns = ['Cutoff', 'N', 'Events']\n",
    "        d['% of Events'] = np.maximum(d['Events'], 0.5) / d['Events'].sum()\n",
    "        d['Non-Events'] = d['N'] - d['Events']\n",
    "        d['% of Non-Events'] = np.maximum(d['Non-Events'], 0.5) / d['Non-Events'].sum()\n",
    "        d['WoE'] = np.log(d['% of Events']/d['% of Non-Events'])\n",
    "        d['IV'] = d['WoE'] * (d['% of Events'] - d['% of Non-Events'])\n",
    "        d.insert(loc=0, column='Variable', value=ivars)\n",
    "        print(\"Information value of \" + ivars + \" is \" + str(round(d['IV'].sum(),6)))\n",
    "        temp =pd.DataFrame({\"Variable\" : [ivars], \"IV\" : [d['IV'].sum()]}, columns = [\"Variable\", \"IV\"])\n",
    "        newDF=pd.concat([newDF,temp], axis=0)\n",
    "        woeDF=pd.concat([woeDF,d], axis=0)\n",
    "\n",
    "        #Show WOE Table\n",
    "        if show_woe == True:\n",
    "            print(d)\n",
    "    return newDF, woeDF"
   ]
  },
  {
   "cell_type": "markdown",
   "metadata": {},
   "source": [
    "Parametros necessários para chamar a função:\n",
    "\n",
    "- *data* - é o data frame aonde estão localizadas as variáveis dependentes e idenpendentes;\n",
    "- *target* - o nome da coluna onde está armazenado os dados da variável dependente;\n",
    "- *bins* - quantidade de divisões ou intervalo nas variáveis;\n",
    "- *show_woe* - quando verdadeiro (True), significa que a função irá imprimir a tabela de cálculo do WOE."
   ]
  },
  {
   "cell_type": "markdown",
   "metadata": {},
   "source": [
    "Chamando a função para realizar o cálculo."
   ]
  },
  {
   "cell_type": "code",
   "execution_count": 10,
   "metadata": {},
   "outputs": [
    {
     "name": "stdout",
     "output_type": "stream",
     "text": [
      "Information value of idade is 0.201024\n",
      "Information value of experiencia is 0.474158\n",
      "Information value of tempo_endereco is 0.279081\n",
      "Information value of renda is 0.093243\n",
      "Information value of debito_renda is 0.750072\n",
      "Information value of cred_deb is 0.261361\n",
      "Information value of outros_debitos is 0.114104\n"
     ]
    }
   ],
   "source": [
    "iv, woe = iv_woe(data = df, target = 'classif')"
   ]
  },
  {
   "cell_type": "code",
   "execution_count": 11,
   "metadata": {},
   "outputs": [
    {
     "name": "stdout",
     "output_type": "stream",
     "text": [
      "         Variable        IV\n",
      "0           idade  0.201024\n",
      "0     experiencia  0.474158\n",
      "0  tempo_endereco  0.279081\n",
      "0           renda  0.093243\n",
      "0    debito_renda  0.750072\n",
      "0        cred_deb  0.261361\n",
      "0  outros_debitos  0.114104\n"
     ]
    }
   ],
   "source": [
    "print(iv)"
   ]
  }
 ],
 "metadata": {
  "kernelspec": {
   "display_name": "Python 3",
   "language": "python",
   "name": "python3"
  },
  "language_info": {
   "codemirror_mode": {
    "name": "ipython",
    "version": 3
   },
   "file_extension": ".py",
   "mimetype": "text/x-python",
   "name": "python",
   "nbconvert_exporter": "python",
   "pygments_lexer": "ipython3",
   "version": "3.8.5"
  }
 },
 "nbformat": 4,
 "nbformat_minor": 4
}
