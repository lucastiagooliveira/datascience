{
  "nbformat": 4,
  "nbformat_minor": 0,
  "metadata": {
    "colab": {
      "name": "2020-12-14-Case_Consorcio_logistic.ipynb",
      "provenance": []
    },
    "kernelspec": {
      "name": "python3",
      "display_name": "Python 3"
    }
  },
  "cells": [
    {
      "cell_type": "markdown",
      "metadata": {
        "id": "4Dh7VbP-gPv0"
      },
      "source": [
        "# Case: Consórcio (Classificação)\r\n",
        "> Totorial de como utilizar regressão logística com a biblioteca statsmodels.\r\n",
        "\r\n",
        "- toc: false\r\n",
        "- badges: true\r\n",
        "- comments: true\r\n",
        "- categories: [logistica, classificacao, consorcio]\r\n",
        "- image:"
      ]
    },
    {
      "cell_type": "markdown",
      "metadata": {
        "id": "BxC8J0LHgVfo"
      },
      "source": [
        "**Suponha que uma instituição financeira deseja estimar a probabilidade de um cliente contratou um consórcio de\r\n",
        "automóvel, p=P(Y=1). Variável resposta: 1 – contratou o consórcio e 0 – não contratou o consórcio.**"
      ]
    },
    {
      "cell_type": "code",
      "metadata": {
        "id": "SN8lWhvq6Hn4"
      },
      "source": [
        "import numpy as np\n",
        "import pandas as pd\n",
        "import statsmodels.formula.api as sm\n",
        "import seaborn as sns\n",
        "from sklearn.metrics import confusion_matrix, accuracy_score\n",
        "from matplotlib import pyplot as plt"
      ],
      "execution_count": 68,
      "outputs": []
    },
    {
      "cell_type": "code",
      "metadata": {
        "colab": {
          "base_uri": "https://localhost:8080/",
          "height": 204
        },
        "id": "vnEVyucC51lI",
        "outputId": "55af77c8-2b22-4979-e02d-6aa91b0edbf2"
      },
      "source": [
        "df = pd.read_excel(\"/content/Consorcio.xlsx\", sheet_name=\"BASE DE DADOS\")\n",
        "df.head()"
      ],
      "execution_count": 4,
      "outputs": [
        {
          "output_type": "execute_result",
          "data": {
            "text/html": [
              "<div>\n",
              "<style scoped>\n",
              "    .dataframe tbody tr th:only-of-type {\n",
              "        vertical-align: middle;\n",
              "    }\n",
              "\n",
              "    .dataframe tbody tr th {\n",
              "        vertical-align: top;\n",
              "    }\n",
              "\n",
              "    .dataframe thead th {\n",
              "        text-align: right;\n",
              "    }\n",
              "</style>\n",
              "<table border=\"1\" class=\"dataframe\">\n",
              "  <thead>\n",
              "    <tr style=\"text-align: right;\">\n",
              "      <th></th>\n",
              "      <th>Contratou</th>\n",
              "      <th>DI</th>\n",
              "      <th>Financiamento</th>\n",
              "      <th>Poupança</th>\n",
              "      <th>Salário</th>\n",
              "      <th>CC</th>\n",
              "    </tr>\n",
              "  </thead>\n",
              "  <tbody>\n",
              "    <tr>\n",
              "      <th>0</th>\n",
              "      <td>1</td>\n",
              "      <td>29537.631</td>\n",
              "      <td>4923797.68</td>\n",
              "      <td>648.681</td>\n",
              "      <td>90943.36</td>\n",
              "      <td>5390.57232</td>\n",
              "    </tr>\n",
              "    <tr>\n",
              "      <th>1</th>\n",
              "      <td>1</td>\n",
              "      <td>196755.372</td>\n",
              "      <td>4006518.12</td>\n",
              "      <td>2208.237</td>\n",
              "      <td>81735.48</td>\n",
              "      <td>4632.16404</td>\n",
              "    </tr>\n",
              "    <tr>\n",
              "      <th>2</th>\n",
              "      <td>1</td>\n",
              "      <td>120872.580</td>\n",
              "      <td>3583136.88</td>\n",
              "      <td>7747.857</td>\n",
              "      <td>85892.78</td>\n",
              "      <td>5808.66874</td>\n",
              "    </tr>\n",
              "    <tr>\n",
              "      <th>3</th>\n",
              "      <td>1</td>\n",
              "      <td>215312.000</td>\n",
              "      <td>3516259.70</td>\n",
              "      <td>5583.999</td>\n",
              "      <td>3770.16</td>\n",
              "      <td>3622.61240</td>\n",
              "    </tr>\n",
              "    <tr>\n",
              "      <th>4</th>\n",
              "      <td>1</td>\n",
              "      <td>738038.139</td>\n",
              "      <td>3248257.80</td>\n",
              "      <td>67986.180</td>\n",
              "      <td>1317.92</td>\n",
              "      <td>9560.52240</td>\n",
              "    </tr>\n",
              "  </tbody>\n",
              "</table>\n",
              "</div>"
            ],
            "text/plain": [
              "   Contratou          DI  Financiamento   Poupança   Salário          CC\n",
              "0          1   29537.631     4923797.68    648.681  90943.36  5390.57232\n",
              "1          1  196755.372     4006518.12   2208.237  81735.48  4632.16404\n",
              "2          1  120872.580     3583136.88   7747.857  85892.78  5808.66874\n",
              "3          1  215312.000     3516259.70   5583.999   3770.16  3622.61240\n",
              "4          1  738038.139     3248257.80  67986.180   1317.92  9560.52240"
            ]
          },
          "metadata": {
            "tags": []
          },
          "execution_count": 4
        }
      ]
    },
    {
      "cell_type": "markdown",
      "metadata": {
        "id": "konxDUy-gkuy"
      },
      "source": [
        "**(a) Faça a análise exploratória univariada e interprete todas as variáveis do banco de dados.**"
      ]
    },
    {
      "cell_type": "code",
      "metadata": {
        "colab": {
          "base_uri": "https://localhost:8080/"
        },
        "id": "tvxBvnzC6Fbq",
        "outputId": "4d387248-a615-40e1-b27d-9e85c8044633"
      },
      "source": [
        "#Análise univariada\n",
        "df.info()"
      ],
      "execution_count": 5,
      "outputs": [
        {
          "output_type": "stream",
          "text": [
            "<class 'pandas.core.frame.DataFrame'>\n",
            "RangeIndex: 89 entries, 0 to 88\n",
            "Data columns (total 6 columns):\n",
            " #   Column         Non-Null Count  Dtype  \n",
            "---  ------         --------------  -----  \n",
            " 0   Contratou      89 non-null     int64  \n",
            " 1   DI             89 non-null     float64\n",
            " 2   Financiamento  89 non-null     float64\n",
            " 3   Poupança       89 non-null     float64\n",
            " 4   Salário        89 non-null     float64\n",
            " 5   CC             89 non-null     float64\n",
            "dtypes: float64(5), int64(1)\n",
            "memory usage: 4.3 KB\n"
          ],
          "name": "stdout"
        }
      ]
    },
    {
      "cell_type": "code",
      "metadata": {
        "colab": {
          "base_uri": "https://localhost:8080/",
          "height": 297
        },
        "id": "C4c2T3OAg0ep",
        "outputId": "2ee4544d-df18-4019-8288-82e687dcfec4"
      },
      "source": [
        "df.describe()"
      ],
      "execution_count": 6,
      "outputs": [
        {
          "output_type": "execute_result",
          "data": {
            "text/html": [
              "<div>\n",
              "<style scoped>\n",
              "    .dataframe tbody tr th:only-of-type {\n",
              "        vertical-align: middle;\n",
              "    }\n",
              "\n",
              "    .dataframe tbody tr th {\n",
              "        vertical-align: top;\n",
              "    }\n",
              "\n",
              "    .dataframe thead th {\n",
              "        text-align: right;\n",
              "    }\n",
              "</style>\n",
              "<table border=\"1\" class=\"dataframe\">\n",
              "  <thead>\n",
              "    <tr style=\"text-align: right;\">\n",
              "      <th></th>\n",
              "      <th>Contratou</th>\n",
              "      <th>DI</th>\n",
              "      <th>Financiamento</th>\n",
              "      <th>Poupança</th>\n",
              "      <th>Salário</th>\n",
              "      <th>CC</th>\n",
              "    </tr>\n",
              "  </thead>\n",
              "  <tbody>\n",
              "    <tr>\n",
              "      <th>count</th>\n",
              "      <td>89.000000</td>\n",
              "      <td>89.000000</td>\n",
              "      <td>8.900000e+01</td>\n",
              "      <td>89.000000</td>\n",
              "      <td>89.000000</td>\n",
              "      <td>89.000000</td>\n",
              "    </tr>\n",
              "    <tr>\n",
              "      <th>mean</th>\n",
              "      <td>0.550562</td>\n",
              "      <td>301413.789549</td>\n",
              "      <td>1.228615e+06</td>\n",
              "      <td>19774.266045</td>\n",
              "      <td>34354.889438</td>\n",
              "      <td>5702.393457</td>\n",
              "    </tr>\n",
              "    <tr>\n",
              "      <th>std</th>\n",
              "      <td>0.500255</td>\n",
              "      <td>249528.494442</td>\n",
              "      <td>1.018172e+06</td>\n",
              "      <td>31623.011024</td>\n",
              "      <td>29305.261298</td>\n",
              "      <td>4589.353601</td>\n",
              "    </tr>\n",
              "    <tr>\n",
              "      <th>min</th>\n",
              "      <td>0.000000</td>\n",
              "      <td>3090.153000</td>\n",
              "      <td>5.838863e+04</td>\n",
              "      <td>36.369000</td>\n",
              "      <td>1200.000000</td>\n",
              "      <td>268.135840</td>\n",
              "    </tr>\n",
              "    <tr>\n",
              "      <th>25%</th>\n",
              "      <td>0.000000</td>\n",
              "      <td>127720.800000</td>\n",
              "      <td>5.508031e+05</td>\n",
              "      <td>1287.098000</td>\n",
              "      <td>11200.550000</td>\n",
              "      <td>2278.598980</td>\n",
              "    </tr>\n",
              "    <tr>\n",
              "      <th>50%</th>\n",
              "      <td>1.000000</td>\n",
              "      <td>203243.200000</td>\n",
              "      <td>8.395141e+05</td>\n",
              "      <td>3757.220000</td>\n",
              "      <td>22284.610000</td>\n",
              "      <td>4632.164040</td>\n",
              "    </tr>\n",
              "    <tr>\n",
              "      <th>75%</th>\n",
              "      <td>1.000000</td>\n",
              "      <td>464022.591000</td>\n",
              "      <td>1.688979e+06</td>\n",
              "      <td>23705.380000</td>\n",
              "      <td>58565.010000</td>\n",
              "      <td>8781.163580</td>\n",
              "    </tr>\n",
              "    <tr>\n",
              "      <th>max</th>\n",
              "      <td>1.000000</td>\n",
              "      <td>897239.700000</td>\n",
              "      <td>4.923798e+06</td>\n",
              "      <td>138717.280000</td>\n",
              "      <td>90943.360000</td>\n",
              "      <td>23213.995200</td>\n",
              "    </tr>\n",
              "  </tbody>\n",
              "</table>\n",
              "</div>"
            ],
            "text/plain": [
              "       Contratou             DI  ...       Salário            CC\n",
              "count  89.000000      89.000000  ...     89.000000     89.000000\n",
              "mean    0.550562  301413.789549  ...  34354.889438   5702.393457\n",
              "std     0.500255  249528.494442  ...  29305.261298   4589.353601\n",
              "min     0.000000    3090.153000  ...   1200.000000    268.135840\n",
              "25%     0.000000  127720.800000  ...  11200.550000   2278.598980\n",
              "50%     1.000000  203243.200000  ...  22284.610000   4632.164040\n",
              "75%     1.000000  464022.591000  ...  58565.010000   8781.163580\n",
              "max     1.000000  897239.700000  ...  90943.360000  23213.995200\n",
              "\n",
              "[8 rows x 6 columns]"
            ]
          },
          "metadata": {
            "tags": []
          },
          "execution_count": 6
        }
      ]
    },
    {
      "cell_type": "markdown",
      "metadata": {
        "id": "J6UcJGb8khZk"
      },
      "source": [
        "**Faça a análise bivariada das variáveis explicativas (covariáveis) vs. a variável resposta. Você acredita que:**\r\n",
        "\r\n",
        "1. O Valor Investido no Fundo DI (variável DI) é menor, em geral, para quem contratou consórcio?\r\n",
        "2. O Valor do Financiamento Imobiliário (variável Financiamento) é maior, em geral, para quem contratou consórcio?\r\n",
        "3. O Valor Aplicado na Poupança (variável Poupança) é maior, em geral, para quem contratou consórcio?\r\n",
        "4. O Salário do Cliente (variável Salário) é maior, em geral, para quem contratou consórcio?\r\n",
        "5. O Gasto no Cartão de Crédito (variável CC) é menor, em geral, para quem contratou consórcio?"
      ]
    },
    {
      "cell_type": "code",
      "metadata": {
        "colab": {
          "base_uri": "https://localhost:8080/",
          "height": 1000
        },
        "id": "QzxajaDAiEL8",
        "outputId": "8fdc0558-2773-42d1-d242-9a1353302854"
      },
      "source": [
        "#Análise Bivariada\r\n",
        "g = sns.PairGrid(data=df,\r\n",
        "             x_vars='Contratou',\r\n",
        "             y_vars=['DI','Financiamento','Poupança','Salário', 'CC'],\r\n",
        "             height=5)\r\n",
        "\r\n",
        "g.map(sns.boxplot, )"
      ],
      "execution_count": 14,
      "outputs": [
        {
          "output_type": "execute_result",
          "data": {
            "text/plain": [
              "<seaborn.axisgrid.PairGrid at 0x7ff938c92208>"
            ]
          },
          "metadata": {
            "tags": []
          },
          "execution_count": 14
        },
        {
          "output_type": "display_data",
          "data": {
            "image/png": "[encoded data removed]",
            "text/plain": [
              "<Figure size 360x1800 with 5 Axes>"
            ]
          },
          "metadata": {
            "tags": [],
            "needs_background": "light"
          }
        }
      ]
    },
    {
      "cell_type": "markdown",
      "metadata": {
        "id": "4j3PdGZvlfgb"
      },
      "source": [
        "**O Valor Investido no Fundo DI (variável DI) é menor, em geral, para quem contratou consórcio?** Sim\r\n",
        "\r\n",
        "\r\n",
        "**O Valor do Financiamento Imobiliário (variável Financiamento) é maior, em geral, para quem contratou consórcio?** Sim\r\n",
        "\r\n",
        "\r\n",
        "**O Valor Aplicado na Poupança (variável Poupança) é maior, em geral, para quem contratou consórcio?** Sim\r\n",
        "\r\n",
        "\r\n",
        "**O Salário do Cliente (variável Salário) é maior, em geral, para quem contratou consórcio?** Sim\r\n",
        "\r\n",
        "\r\n",
        "**O Gasto no Cartão de Crédito (variável CC) é menor, em geral, para quem contratou consórcio?** Sim"
      ]
    },
    {
      "cell_type": "markdown",
      "metadata": {
        "id": "FCCRE03tm64y"
      },
      "source": [
        "**(c) Obtenha o modelo de regressão logística utilizando 90% de confiança.**"
      ]
    },
    {
      "cell_type": "code",
      "metadata": {
        "colab": {
          "base_uri": "https://localhost:8080/"
        },
        "id": "BUWeX2hdnjC0",
        "outputId": "8d3b8daa-3053-4990-8858-78930345bf9a"
      },
      "source": [
        "log_reg = sm.logit(\"Contratou ~ DI + Financiamento + Poupança + Salário + CC\",\r\n",
        "                   data = df).fit()\r\n",
        "print(log_reg.summary())"
      ],
      "execution_count": 50,
      "outputs": [
        {
          "output_type": "stream",
          "text": [
            "Optimization terminated successfully.\n",
            "         Current function value: 0.218736\n",
            "         Iterations 8\n",
            "                           Logit Regression Results                           \n",
            "==============================================================================\n",
            "Dep. Variable:              Contratou   No. Observations:                   89\n",
            "Model:                          Logit   Df Residuals:                       83\n",
            "Method:                           MLE   Df Model:                            5\n",
            "Date:                Mon, 14 Dec 2020   Pseudo R-squ.:                  0.6821\n",
            "Time:                        19:19:06   Log-Likelihood:                -19.467\n",
            "converged:                       True   LL-Null:                       -61.234\n",
            "Covariance Type:            nonrobust   LLR p-value:                 1.528e-16\n",
            "=================================================================================\n",
            "                    coef    std err          z      P>|z|      [0.025      0.975]\n",
            "---------------------------------------------------------------------------------\n",
            "Intercept        -3.4499      1.352     -2.552      0.011      -6.099      -0.800\n",
            "DI            -4.269e-06   2.47e-06     -1.728      0.084   -9.11e-06    5.72e-07\n",
            "Financiamento  5.792e-07   4.42e-07      1.310      0.190   -2.87e-07    1.45e-06\n",
            "Poupança       6.478e-05   2.43e-05      2.669      0.008    1.72e-05       0.000\n",
            "Salário           0.0001   2.64e-05      3.887      0.000    5.09e-05       0.000\n",
            "CC             6.791e-05      0.000      0.660      0.509      -0.000       0.000\n",
            "=================================================================================\n"
          ],
          "name": "stdout"
        }
      ]
    },
    {
      "cell_type": "markdown",
      "metadata": {
        "id": "VAB6kzE7rwaO"
      },
      "source": [
        "Como podemos perceber a variável CC não tem a garantia que ela será boa para realizarmos o modelo, portanto iremos retira-la."
      ]
    },
    {
      "cell_type": "code",
      "metadata": {
        "colab": {
          "base_uri": "https://localhost:8080/"
        },
        "id": "0MWtlHynsH65",
        "outputId": "2d084c8d-5591-4f33-b0a4-cd1f32ac4d09"
      },
      "source": [
        "log_reg = sm.logit(\"Contratou ~ DI + Financiamento + Poupança + Salário\",\r\n",
        "                   data = df).fit()\r\n",
        "print(print(log_reg.summary()))"
      ],
      "execution_count": 51,
      "outputs": [
        {
          "output_type": "stream",
          "text": [
            "Optimization terminated successfully.\n",
            "         Current function value: 0.221020\n",
            "         Iterations 8\n",
            "                           Logit Regression Results                           \n",
            "==============================================================================\n",
            "Dep. Variable:              Contratou   No. Observations:                   89\n",
            "Model:                          Logit   Df Residuals:                       84\n",
            "Method:                           MLE   Df Model:                            4\n",
            "Date:                Mon, 14 Dec 2020   Pseudo R-squ.:                  0.6788\n",
            "Time:                        19:19:13   Log-Likelihood:                -19.671\n",
            "converged:                       True   LL-Null:                       -61.234\n",
            "Covariance Type:            nonrobust   LLR p-value:                 3.787e-17\n",
            "=================================================================================\n",
            "                    coef    std err          z      P>|z|      [0.025      0.975]\n",
            "---------------------------------------------------------------------------------\n",
            "Intercept        -2.9477      1.075     -2.741      0.006      -5.055      -0.840\n",
            "DI            -4.835e-06   2.38e-06     -2.034      0.042   -9.49e-06   -1.75e-07\n",
            "Financiamento  5.451e-07    4.4e-07      1.240      0.215   -3.16e-07    1.41e-06\n",
            "Poupança       7.028e-05   2.34e-05      3.002      0.003    2.44e-05       0.000\n",
            "Salário           0.0001   2.53e-05      3.968      0.000    5.07e-05       0.000\n",
            "=================================================================================\n",
            "None\n"
          ],
          "name": "stdout"
        }
      ]
    },
    {
      "cell_type": "markdown",
      "metadata": {
        "id": "QpsTyTnpsY1x"
      },
      "source": [
        "Iremos realizar o mesmo procedimento com a variável Financiamento."
      ]
    },
    {
      "cell_type": "code",
      "metadata": {
        "colab": {
          "base_uri": "https://localhost:8080/"
        },
        "id": "KUSqGSLJsXdv",
        "outputId": "1993e13f-9ae0-491c-9aca-72101d255434"
      },
      "source": [
        "log_reg = sm.logit(\"Contratou ~ DI + Poupança + Salário\",\r\n",
        "                   data = df).fit()\r\n",
        "print(print(log_reg.summary()))"
      ],
      "execution_count": 52,
      "outputs": [
        {
          "output_type": "stream",
          "text": [
            "Optimization terminated successfully.\n",
            "         Current function value: 0.229640\n",
            "         Iterations 8\n",
            "                           Logit Regression Results                           \n",
            "==============================================================================\n",
            "Dep. Variable:              Contratou   No. Observations:                   89\n",
            "Model:                          Logit   Df Residuals:                       85\n",
            "Method:                           MLE   Df Model:                            3\n",
            "Date:                Mon, 14 Dec 2020   Pseudo R-squ.:                  0.6662\n",
            "Time:                        19:20:07   Log-Likelihood:                -20.438\n",
            "converged:                       True   LL-Null:                       -61.234\n",
            "Covariance Type:            nonrobust   LLR p-value:                 1.398e-17\n",
            "==============================================================================\n",
            "                 coef    std err          z      P>|z|      [0.025      0.975]\n",
            "------------------------------------------------------------------------------\n",
            "Intercept     -2.3707      0.878     -2.701      0.007      -4.091      -0.651\n",
            "DI         -4.758e-06   2.22e-06     -2.142      0.032   -9.11e-06   -4.05e-07\n",
            "Poupança    7.179e-05   2.26e-05      3.171      0.002    2.74e-05       0.000\n",
            "Salário        0.0001   2.51e-05      4.054      0.000    5.25e-05       0.000\n",
            "==============================================================================\n",
            "None\n"
          ],
          "name": "stdout"
        }
      ]
    },
    {
      "cell_type": "markdown",
      "metadata": {
        "id": "Yg6EX0DNsor2"
      },
      "source": [
        "**(d) Obtenha a probabilidade estimada.**"
      ]
    },
    {
      "cell_type": "code",
      "metadata": {
        "colab": {
          "base_uri": "https://localhost:8080/",
          "height": 204
        },
        "id": "oUrvCN_GsqZb",
        "outputId": "e2576d57-1d26-46ed-b98d-cfa5dc9e17ab"
      },
      "source": [
        "x = [i for i in df.columns if i != 'Contratou']\r\n",
        "df['contrata_prob'] = log_reg.predict(df[x])\r\n",
        "df.head()"
      ],
      "execution_count": 56,
      "outputs": [
        {
          "output_type": "execute_result",
          "data": {
            "text/html": [
              "<div>\n",
              "<style scoped>\n",
              "    .dataframe tbody tr th:only-of-type {\n",
              "        vertical-align: middle;\n",
              "    }\n",
              "\n",
              "    .dataframe tbody tr th {\n",
              "        vertical-align: top;\n",
              "    }\n",
              "\n",
              "    .dataframe thead th {\n",
              "        text-align: right;\n",
              "    }\n",
              "</style>\n",
              "<table border=\"1\" class=\"dataframe\">\n",
              "  <thead>\n",
              "    <tr style=\"text-align: right;\">\n",
              "      <th></th>\n",
              "      <th>Contratou</th>\n",
              "      <th>DI</th>\n",
              "      <th>Financiamento</th>\n",
              "      <th>Poupança</th>\n",
              "      <th>Salário</th>\n",
              "      <th>CC</th>\n",
              "      <th>contrata_prob</th>\n",
              "    </tr>\n",
              "  </thead>\n",
              "  <tbody>\n",
              "    <tr>\n",
              "      <th>0</th>\n",
              "      <td>1</td>\n",
              "      <td>29537.631</td>\n",
              "      <td>4923797.68</td>\n",
              "      <td>648.681</td>\n",
              "      <td>90943.36</td>\n",
              "      <td>5390.57232</td>\n",
              "      <td>0.998866</td>\n",
              "    </tr>\n",
              "    <tr>\n",
              "      <th>1</th>\n",
              "      <td>1</td>\n",
              "      <td>196755.372</td>\n",
              "      <td>4006518.12</td>\n",
              "      <td>2208.237</td>\n",
              "      <td>81735.48</td>\n",
              "      <td>4632.16404</td>\n",
              "      <td>0.994298</td>\n",
              "    </tr>\n",
              "    <tr>\n",
              "      <th>2</th>\n",
              "      <td>1</td>\n",
              "      <td>120872.580</td>\n",
              "      <td>3583136.88</td>\n",
              "      <td>7747.857</td>\n",
              "      <td>85892.78</td>\n",
              "      <td>5808.66874</td>\n",
              "      <td>0.998243</td>\n",
              "    </tr>\n",
              "    <tr>\n",
              "      <th>3</th>\n",
              "      <td>1</td>\n",
              "      <td>215312.000</td>\n",
              "      <td>3516259.70</td>\n",
              "      <td>5583.999</td>\n",
              "      <td>3770.16</td>\n",
              "      <td>3622.61240</td>\n",
              "      <td>0.068427</td>\n",
              "    </tr>\n",
              "    <tr>\n",
              "      <th>4</th>\n",
              "      <td>1</td>\n",
              "      <td>738038.139</td>\n",
              "      <td>3248257.80</td>\n",
              "      <td>67986.180</td>\n",
              "      <td>1317.92</td>\n",
              "      <td>9560.52240</td>\n",
              "      <td>0.295636</td>\n",
              "    </tr>\n",
              "  </tbody>\n",
              "</table>\n",
              "</div>"
            ],
            "text/plain": [
              "   Contratou          DI  Financiamento  ...   Salário          CC  contrata_prob\n",
              "0          1   29537.631     4923797.68  ...  90943.36  5390.57232       0.998866\n",
              "1          1  196755.372     4006518.12  ...  81735.48  4632.16404       0.994298\n",
              "2          1  120872.580     3583136.88  ...  85892.78  5808.66874       0.998243\n",
              "3          1  215312.000     3516259.70  ...   3770.16  3622.61240       0.068427\n",
              "4          1  738038.139     3248257.80  ...   1317.92  9560.52240       0.295636\n",
              "\n",
              "[5 rows x 7 columns]"
            ]
          },
          "metadata": {
            "tags": []
          },
          "execution_count": 56
        }
      ]
    },
    {
      "cell_type": "markdown",
      "metadata": {
        "id": "UX28SeuhtZHB"
      },
      "source": [
        "**(e) Obtenha a tabela de classificação.**"
      ]
    },
    {
      "cell_type": "code",
      "metadata": {
        "colab": {
          "base_uri": "https://localhost:8080/",
          "height": 204
        },
        "id": "7xZLMWlttJj8",
        "outputId": "1fed28be-5226-4104-9f95-2f573d56fb6d"
      },
      "source": [
        "#Criando um ponto de corte igual a média da variável Contratou\r\n",
        "\r\n",
        "df['contrata_pred'] = [ 1 if i >= 0.50 else 0 for i in df.contrata_prob ]\r\n",
        "df.head()"
      ],
      "execution_count": 74,
      "outputs": [
        {
          "output_type": "execute_result",
          "data": {
            "text/html": [
              "<div>\n",
              "<style scoped>\n",
              "    .dataframe tbody tr th:only-of-type {\n",
              "        vertical-align: middle;\n",
              "    }\n",
              "\n",
              "    .dataframe tbody tr th {\n",
              "        vertical-align: top;\n",
              "    }\n",
              "\n",
              "    .dataframe thead th {\n",
              "        text-align: right;\n",
              "    }\n",
              "</style>\n",
              "<table border=\"1\" class=\"dataframe\">\n",
              "  <thead>\n",
              "    <tr style=\"text-align: right;\">\n",
              "      <th></th>\n",
              "      <th>Contratou</th>\n",
              "      <th>DI</th>\n",
              "      <th>Financiamento</th>\n",
              "      <th>Poupança</th>\n",
              "      <th>Salário</th>\n",
              "      <th>CC</th>\n",
              "      <th>contrata_prob</th>\n",
              "      <th>contrata_pred</th>\n",
              "    </tr>\n",
              "  </thead>\n",
              "  <tbody>\n",
              "    <tr>\n",
              "      <th>0</th>\n",
              "      <td>1</td>\n",
              "      <td>29537.631</td>\n",
              "      <td>4923797.68</td>\n",
              "      <td>648.681</td>\n",
              "      <td>90943.36</td>\n",
              "      <td>5390.57232</td>\n",
              "      <td>0.998866</td>\n",
              "      <td>1</td>\n",
              "    </tr>\n",
              "    <tr>\n",
              "      <th>1</th>\n",
              "      <td>1</td>\n",
              "      <td>196755.372</td>\n",
              "      <td>4006518.12</td>\n",
              "      <td>2208.237</td>\n",
              "      <td>81735.48</td>\n",
              "      <td>4632.16404</td>\n",
              "      <td>0.994298</td>\n",
              "      <td>1</td>\n",
              "    </tr>\n",
              "    <tr>\n",
              "      <th>2</th>\n",
              "      <td>1</td>\n",
              "      <td>120872.580</td>\n",
              "      <td>3583136.88</td>\n",
              "      <td>7747.857</td>\n",
              "      <td>85892.78</td>\n",
              "      <td>5808.66874</td>\n",
              "      <td>0.998243</td>\n",
              "      <td>1</td>\n",
              "    </tr>\n",
              "    <tr>\n",
              "      <th>3</th>\n",
              "      <td>1</td>\n",
              "      <td>215312.000</td>\n",
              "      <td>3516259.70</td>\n",
              "      <td>5583.999</td>\n",
              "      <td>3770.16</td>\n",
              "      <td>3622.61240</td>\n",
              "      <td>0.068427</td>\n",
              "      <td>0</td>\n",
              "    </tr>\n",
              "    <tr>\n",
              "      <th>4</th>\n",
              "      <td>1</td>\n",
              "      <td>738038.139</td>\n",
              "      <td>3248257.80</td>\n",
              "      <td>67986.180</td>\n",
              "      <td>1317.92</td>\n",
              "      <td>9560.52240</td>\n",
              "      <td>0.295636</td>\n",
              "      <td>0</td>\n",
              "    </tr>\n",
              "  </tbody>\n",
              "</table>\n",
              "</div>"
            ],
            "text/plain": [
              "   Contratou          DI  ...  contrata_prob  contrata_pred\n",
              "0          1   29537.631  ...       0.998866              1\n",
              "1          1  196755.372  ...       0.994298              1\n",
              "2          1  120872.580  ...       0.998243              1\n",
              "3          1  215312.000  ...       0.068427              0\n",
              "4          1  738038.139  ...       0.295636              0\n",
              "\n",
              "[5 rows x 8 columns]"
            ]
          },
          "metadata": {
            "tags": []
          },
          "execution_count": 74
        }
      ]
    },
    {
      "cell_type": "code",
      "metadata": {
        "colab": {
          "base_uri": "https://localhost:8080/",
          "height": 500
        },
        "id": "HorX43ll2Cuw",
        "outputId": "f3beb44e-5ac6-404c-c64b-b13a8cd3c922"
      },
      "source": [
        "#Matrix de confusão\r\n",
        "\r\n",
        "cm1 = confusion_matrix(df.Contratou, df.contrata_pred)\r\n",
        "plt.figure(figsize=(10,8))\r\n",
        "sns.heatmap(cm1, annot = True, fmt='d', cbar=False)"
      ],
      "execution_count": 90,
      "outputs": [
        {
          "output_type": "execute_result",
          "data": {
            "text/plain": [
              "<matplotlib.axes._subplots.AxesSubplot at 0x7ff9356589b0>"
            ]
          },
          "metadata": {
            "tags": []
          },
          "execution_count": 90
        },
        {
          "output_type": "display_data",
          "data": {
            "image/png": "[encoded data removed]",
            "text/plain": [
              "<Figure size 720x576 with 1 Axes>"
            ]
          },
          "metadata": {
            "tags": [],
            "needs_background": "light"
          }
        }
      ]
    },
    {
      "cell_type": "code",
      "metadata": {
        "colab": {
          "base_uri": "https://localhost:8080/"
        },
        "id": "bZT_A5Xh3dOC",
        "outputId": "77b9b6dc-34bf-4a57-89af-9dd98d2d394f"
      },
      "source": [
        "print(\"Acurácia: %.2f\" % (accuracy_score(df.Contratou, df.contrata_pred)*100),'%')\r\n",
        "print('Especificidade: %.2f' % (cm1[0,0]*100/(cm1[0,0]+ cm1[0,1])),'%')\r\n",
        "print('Sensibilidade: %.2f' % (cm1[1,1]*100/(cm1[1,0]+ cm1[1,1])),'%')"
      ],
      "execution_count": 89,
      "outputs": [
        {
          "output_type": "stream",
          "text": [
            "Acurácia: 91.01 %\n",
            "Especificidade: 92.50 %\n",
            "Sensibilidade: 89.80 %\n"
          ],
          "name": "stdout"
        }
      ]
    },
    {
      "cell_type": "markdown",
      "metadata": {
        "id": "U8KiNg_B7Pop"
      },
      "source": [
        "> Uma acurácia de 91% indica de a cada 100 clientes o modelo irá acertar 91 casos.\r\n",
        "\r\n",
        "> Uma sensibilidade de 89% mostra a capacidade do modelo de acertar os clientes que iriam contratar o consórcio.\r\n",
        "\r\n",
        "> A especificidade de 92% indica a eficácia em identificar os clientes que não irão contratar o consórcio."
      ]
    }
  ]
}