{
 "cells": [
  {
   "cell_type": "markdown",
   "metadata": {},
   "source": [
    "# Análise qualitativa e quantitativa de dados\n",
    "> Resumo das principais medidas estatísticas e alguns estudos de caso.\n",
    "\n",
    "- toc: false\n",
    "- badges: true\n",
    "- comments: true\n",
    "- categories: [analise, dados]\n",
    "- author: Lucas Tiago\n",
    "- image: "
   ]
  },
  {
   "cell_type": "markdown",
   "metadata": {},
   "source": [
    "## Carregando as bibliotecas necessárias"
   ]
  },
  {
   "cell_type": "code",
   "execution_count": 1,
   "metadata": {},
   "outputs": [],
   "source": [
    "import pandas as pd\n",
    "from scipy.stats import mode, skewtest, variation, normaltest, skew\n",
    "import numpy as np\n",
    "from numpy import median, var, std\n",
    "import matplotlib.pyplot as plt\n",
    "import seaborn as sns \n",
    "%matplotlib inline"
   ]
  },
  {
   "cell_type": "markdown",
   "metadata": {},
   "source": [
    "## Carregando base de dados utilizando o pacote `pandas`."
   ]
  },
  {
   "cell_type": "code",
   "execution_count": 2,
   "metadata": {},
   "outputs": [
    {
     "data": {
      "text/html": [
       "<div>\n",
       "<style scoped>\n",
       "    .dataframe tbody tr th:only-of-type {\n",
       "        vertical-align: middle;\n",
       "    }\n",
       "\n",
       "    .dataframe tbody tr th {\n",
       "        vertical-align: top;\n",
       "    }\n",
       "\n",
       "    .dataframe thead th {\n",
       "        text-align: right;\n",
       "    }\n",
       "</style>\n",
       "<table border=\"1\" class=\"dataframe\">\n",
       "  <thead>\n",
       "    <tr style=\"text-align: right;\">\n",
       "      <th></th>\n",
       "      <th>estado_civil</th>\n",
       "      <th>grau_instrucao</th>\n",
       "      <th>n_filhos</th>\n",
       "      <th>salario</th>\n",
       "      <th>idade_anos</th>\n",
       "      <th>reg_procedencia</th>\n",
       "    </tr>\n",
       "    <tr>\n",
       "      <th>N</th>\n",
       "      <th></th>\n",
       "      <th></th>\n",
       "      <th></th>\n",
       "      <th></th>\n",
       "      <th></th>\n",
       "      <th></th>\n",
       "    </tr>\n",
       "  </thead>\n",
       "  <tbody>\n",
       "    <tr>\n",
       "      <th>1</th>\n",
       "      <td>solteiro</td>\n",
       "      <td>1-ensino fundamental</td>\n",
       "      <td>NaN</td>\n",
       "      <td>4.00</td>\n",
       "      <td>26</td>\n",
       "      <td>interior</td>\n",
       "    </tr>\n",
       "    <tr>\n",
       "      <th>2</th>\n",
       "      <td>casado</td>\n",
       "      <td>1-ensino fundamental</td>\n",
       "      <td>1.0</td>\n",
       "      <td>4.56</td>\n",
       "      <td>32</td>\n",
       "      <td>capital</td>\n",
       "    </tr>\n",
       "    <tr>\n",
       "      <th>3</th>\n",
       "      <td>casado</td>\n",
       "      <td>1-ensino fundamental</td>\n",
       "      <td>2.0</td>\n",
       "      <td>5.25</td>\n",
       "      <td>36</td>\n",
       "      <td>capital</td>\n",
       "    </tr>\n",
       "    <tr>\n",
       "      <th>4</th>\n",
       "      <td>solteiro</td>\n",
       "      <td>2-ensino medio</td>\n",
       "      <td>NaN</td>\n",
       "      <td>5.73</td>\n",
       "      <td>20</td>\n",
       "      <td>outra</td>\n",
       "    </tr>\n",
       "    <tr>\n",
       "      <th>5</th>\n",
       "      <td>solteiro</td>\n",
       "      <td>1-ensino fundamental</td>\n",
       "      <td>NaN</td>\n",
       "      <td>6.26</td>\n",
       "      <td>40</td>\n",
       "      <td>outra</td>\n",
       "    </tr>\n",
       "    <tr>\n",
       "      <th>6</th>\n",
       "      <td>casado</td>\n",
       "      <td>1-ensino fundamental</td>\n",
       "      <td>0.0</td>\n",
       "      <td>6.66</td>\n",
       "      <td>28</td>\n",
       "      <td>interior</td>\n",
       "    </tr>\n",
       "    <tr>\n",
       "      <th>7</th>\n",
       "      <td>solteiro</td>\n",
       "      <td>1-ensino fundamental</td>\n",
       "      <td>NaN</td>\n",
       "      <td>6.86</td>\n",
       "      <td>41</td>\n",
       "      <td>interior</td>\n",
       "    </tr>\n",
       "    <tr>\n",
       "      <th>8</th>\n",
       "      <td>solteiro</td>\n",
       "      <td>1-ensino fundamental</td>\n",
       "      <td>NaN</td>\n",
       "      <td>7.39</td>\n",
       "      <td>43</td>\n",
       "      <td>capital</td>\n",
       "    </tr>\n",
       "    <tr>\n",
       "      <th>9</th>\n",
       "      <td>casado</td>\n",
       "      <td>2-ensino medio</td>\n",
       "      <td>1.0</td>\n",
       "      <td>7.59</td>\n",
       "      <td>34</td>\n",
       "      <td>capital</td>\n",
       "    </tr>\n",
       "    <tr>\n",
       "      <th>10</th>\n",
       "      <td>solteiro</td>\n",
       "      <td>2-ensino medio</td>\n",
       "      <td>NaN</td>\n",
       "      <td>7.44</td>\n",
       "      <td>23</td>\n",
       "      <td>outra</td>\n",
       "    </tr>\n",
       "    <tr>\n",
       "      <th>11</th>\n",
       "      <td>casado</td>\n",
       "      <td>2-ensino medio</td>\n",
       "      <td>2.0</td>\n",
       "      <td>8.12</td>\n",
       "      <td>33</td>\n",
       "      <td>interior</td>\n",
       "    </tr>\n",
       "    <tr>\n",
       "      <th>12</th>\n",
       "      <td>solteiro</td>\n",
       "      <td>1-ensino fundamental</td>\n",
       "      <td>NaN</td>\n",
       "      <td>8.46</td>\n",
       "      <td>27</td>\n",
       "      <td>capital</td>\n",
       "    </tr>\n",
       "    <tr>\n",
       "      <th>13</th>\n",
       "      <td>solteiro</td>\n",
       "      <td>2-ensino medio</td>\n",
       "      <td>NaN</td>\n",
       "      <td>8.74</td>\n",
       "      <td>37</td>\n",
       "      <td>outra</td>\n",
       "    </tr>\n",
       "    <tr>\n",
       "      <th>14</th>\n",
       "      <td>casado</td>\n",
       "      <td>1-ensino fundamental</td>\n",
       "      <td>3.0</td>\n",
       "      <td>8.95</td>\n",
       "      <td>44</td>\n",
       "      <td>outra</td>\n",
       "    </tr>\n",
       "    <tr>\n",
       "      <th>15</th>\n",
       "      <td>casado</td>\n",
       "      <td>2-ensino medio</td>\n",
       "      <td>0.0</td>\n",
       "      <td>9.13</td>\n",
       "      <td>30</td>\n",
       "      <td>interior</td>\n",
       "    </tr>\n",
       "    <tr>\n",
       "      <th>16</th>\n",
       "      <td>solteiro</td>\n",
       "      <td>2-ensino medio</td>\n",
       "      <td>NaN</td>\n",
       "      <td>9.35</td>\n",
       "      <td>38</td>\n",
       "      <td>outra</td>\n",
       "    </tr>\n",
       "    <tr>\n",
       "      <th>17</th>\n",
       "      <td>casado</td>\n",
       "      <td>2-ensino medio</td>\n",
       "      <td>1.0</td>\n",
       "      <td>9.77</td>\n",
       "      <td>31</td>\n",
       "      <td>capital</td>\n",
       "    </tr>\n",
       "    <tr>\n",
       "      <th>18</th>\n",
       "      <td>casado</td>\n",
       "      <td>1-ensino fundamental</td>\n",
       "      <td>2.0</td>\n",
       "      <td>9.80</td>\n",
       "      <td>39</td>\n",
       "      <td>outra</td>\n",
       "    </tr>\n",
       "    <tr>\n",
       "      <th>19</th>\n",
       "      <td>solteiro</td>\n",
       "      <td>3-superior</td>\n",
       "      <td>NaN</td>\n",
       "      <td>10.53</td>\n",
       "      <td>25</td>\n",
       "      <td>interior</td>\n",
       "    </tr>\n",
       "    <tr>\n",
       "      <th>20</th>\n",
       "      <td>solteiro</td>\n",
       "      <td>2-ensino medio</td>\n",
       "      <td>NaN</td>\n",
       "      <td>10.76</td>\n",
       "      <td>37</td>\n",
       "      <td>interior</td>\n",
       "    </tr>\n",
       "    <tr>\n",
       "      <th>21</th>\n",
       "      <td>casado</td>\n",
       "      <td>2-ensino medio</td>\n",
       "      <td>1.0</td>\n",
       "      <td>11.06</td>\n",
       "      <td>30</td>\n",
       "      <td>outra</td>\n",
       "    </tr>\n",
       "    <tr>\n",
       "      <th>22</th>\n",
       "      <td>solteiro</td>\n",
       "      <td>2-ensino medio</td>\n",
       "      <td>NaN</td>\n",
       "      <td>11.59</td>\n",
       "      <td>34</td>\n",
       "      <td>capital</td>\n",
       "    </tr>\n",
       "    <tr>\n",
       "      <th>23</th>\n",
       "      <td>solteiro</td>\n",
       "      <td>1-ensino fundamental</td>\n",
       "      <td>NaN</td>\n",
       "      <td>12.00</td>\n",
       "      <td>41</td>\n",
       "      <td>outra</td>\n",
       "    </tr>\n",
       "    <tr>\n",
       "      <th>24</th>\n",
       "      <td>casado</td>\n",
       "      <td>3-superior</td>\n",
       "      <td>0.0</td>\n",
       "      <td>12.79</td>\n",
       "      <td>26</td>\n",
       "      <td>outra</td>\n",
       "    </tr>\n",
       "    <tr>\n",
       "      <th>25</th>\n",
       "      <td>casado</td>\n",
       "      <td>2-ensino medio</td>\n",
       "      <td>2.0</td>\n",
       "      <td>13.23</td>\n",
       "      <td>32</td>\n",
       "      <td>interior</td>\n",
       "    </tr>\n",
       "    <tr>\n",
       "      <th>26</th>\n",
       "      <td>casado</td>\n",
       "      <td>2-ensino medio</td>\n",
       "      <td>2.0</td>\n",
       "      <td>13.60</td>\n",
       "      <td>35</td>\n",
       "      <td>outra</td>\n",
       "    </tr>\n",
       "    <tr>\n",
       "      <th>27</th>\n",
       "      <td>solteiro</td>\n",
       "      <td>1-ensino fundamental</td>\n",
       "      <td>NaN</td>\n",
       "      <td>13.85</td>\n",
       "      <td>46</td>\n",
       "      <td>outra</td>\n",
       "    </tr>\n",
       "    <tr>\n",
       "      <th>28</th>\n",
       "      <td>casado</td>\n",
       "      <td>2-ensino medio</td>\n",
       "      <td>0.0</td>\n",
       "      <td>14.69</td>\n",
       "      <td>29</td>\n",
       "      <td>interior</td>\n",
       "    </tr>\n",
       "    <tr>\n",
       "      <th>29</th>\n",
       "      <td>casado</td>\n",
       "      <td>2-ensino medio</td>\n",
       "      <td>5.0</td>\n",
       "      <td>14.71</td>\n",
       "      <td>40</td>\n",
       "      <td>interior</td>\n",
       "    </tr>\n",
       "    <tr>\n",
       "      <th>30</th>\n",
       "      <td>casado</td>\n",
       "      <td>2-ensino medio</td>\n",
       "      <td>2.0</td>\n",
       "      <td>15.99</td>\n",
       "      <td>35</td>\n",
       "      <td>capital</td>\n",
       "    </tr>\n",
       "    <tr>\n",
       "      <th>31</th>\n",
       "      <td>solteiro</td>\n",
       "      <td>3-superior</td>\n",
       "      <td>NaN</td>\n",
       "      <td>16.22</td>\n",
       "      <td>31</td>\n",
       "      <td>outra</td>\n",
       "    </tr>\n",
       "    <tr>\n",
       "      <th>32</th>\n",
       "      <td>casado</td>\n",
       "      <td>2-ensino medio</td>\n",
       "      <td>1.0</td>\n",
       "      <td>16.61</td>\n",
       "      <td>36</td>\n",
       "      <td>interior</td>\n",
       "    </tr>\n",
       "    <tr>\n",
       "      <th>33</th>\n",
       "      <td>casado</td>\n",
       "      <td>3-superior</td>\n",
       "      <td>3.0</td>\n",
       "      <td>17.26</td>\n",
       "      <td>43</td>\n",
       "      <td>capital</td>\n",
       "    </tr>\n",
       "    <tr>\n",
       "      <th>34</th>\n",
       "      <td>solteiro</td>\n",
       "      <td>3-superior</td>\n",
       "      <td>NaN</td>\n",
       "      <td>18.75</td>\n",
       "      <td>33</td>\n",
       "      <td>capital</td>\n",
       "    </tr>\n",
       "    <tr>\n",
       "      <th>35</th>\n",
       "      <td>casado</td>\n",
       "      <td>2-ensino medio</td>\n",
       "      <td>2.0</td>\n",
       "      <td>19.40</td>\n",
       "      <td>48</td>\n",
       "      <td>capital</td>\n",
       "    </tr>\n",
       "    <tr>\n",
       "      <th>36</th>\n",
       "      <td>casado</td>\n",
       "      <td>3-superior</td>\n",
       "      <td>3.0</td>\n",
       "      <td>23.30</td>\n",
       "      <td>42</td>\n",
       "      <td>interior</td>\n",
       "    </tr>\n",
       "  </tbody>\n",
       "</table>\n",
       "</div>"
      ],
      "text/plain": [
       "   estado_civil        grau_instrucao  n_filhos  salario  idade_anos  \\\n",
       "N                                                                      \n",
       "1      solteiro  1-ensino fundamental       NaN     4.00          26   \n",
       "2        casado  1-ensino fundamental       1.0     4.56          32   \n",
       "3        casado  1-ensino fundamental       2.0     5.25          36   \n",
       "4      solteiro        2-ensino medio       NaN     5.73          20   \n",
       "5      solteiro  1-ensino fundamental       NaN     6.26          40   \n",
       "6        casado  1-ensino fundamental       0.0     6.66          28   \n",
       "7      solteiro  1-ensino fundamental       NaN     6.86          41   \n",
       "8      solteiro  1-ensino fundamental       NaN     7.39          43   \n",
       "9        casado        2-ensino medio       1.0     7.59          34   \n",
       "10     solteiro        2-ensino medio       NaN     7.44          23   \n",
       "11       casado        2-ensino medio       2.0     8.12          33   \n",
       "12     solteiro  1-ensino fundamental       NaN     8.46          27   \n",
       "13     solteiro        2-ensino medio       NaN     8.74          37   \n",
       "14       casado  1-ensino fundamental       3.0     8.95          44   \n",
       "15       casado        2-ensino medio       0.0     9.13          30   \n",
       "16     solteiro        2-ensino medio       NaN     9.35          38   \n",
       "17       casado        2-ensino medio       1.0     9.77          31   \n",
       "18       casado  1-ensino fundamental       2.0     9.80          39   \n",
       "19     solteiro            3-superior       NaN    10.53          25   \n",
       "20     solteiro        2-ensino medio       NaN    10.76          37   \n",
       "21       casado        2-ensino medio       1.0    11.06          30   \n",
       "22     solteiro        2-ensino medio       NaN    11.59          34   \n",
       "23     solteiro  1-ensino fundamental       NaN    12.00          41   \n",
       "24       casado            3-superior       0.0    12.79          26   \n",
       "25       casado        2-ensino medio       2.0    13.23          32   \n",
       "26       casado        2-ensino medio       2.0    13.60          35   \n",
       "27     solteiro  1-ensino fundamental       NaN    13.85          46   \n",
       "28       casado        2-ensino medio       0.0    14.69          29   \n",
       "29       casado        2-ensino medio       5.0    14.71          40   \n",
       "30       casado        2-ensino medio       2.0    15.99          35   \n",
       "31     solteiro            3-superior       NaN    16.22          31   \n",
       "32       casado        2-ensino medio       1.0    16.61          36   \n",
       "33       casado            3-superior       3.0    17.26          43   \n",
       "34     solteiro            3-superior       NaN    18.75          33   \n",
       "35       casado        2-ensino medio       2.0    19.40          48   \n",
       "36       casado            3-superior       3.0    23.30          42   \n",
       "\n",
       "   reg_procedencia  \n",
       "N                   \n",
       "1         interior  \n",
       "2          capital  \n",
       "3          capital  \n",
       "4            outra  \n",
       "5            outra  \n",
       "6         interior  \n",
       "7         interior  \n",
       "8          capital  \n",
       "9          capital  \n",
       "10           outra  \n",
       "11        interior  \n",
       "12         capital  \n",
       "13           outra  \n",
       "14           outra  \n",
       "15        interior  \n",
       "16           outra  \n",
       "17         capital  \n",
       "18           outra  \n",
       "19        interior  \n",
       "20        interior  \n",
       "21           outra  \n",
       "22         capital  \n",
       "23           outra  \n",
       "24           outra  \n",
       "25        interior  \n",
       "26           outra  \n",
       "27           outra  \n",
       "28        interior  \n",
       "29        interior  \n",
       "30         capital  \n",
       "31           outra  \n",
       "32        interior  \n",
       "33         capital  \n",
       "34         capital  \n",
       "35         capital  \n",
       "36        interior  "
      ]
     },
     "execution_count": 2,
     "metadata": {},
     "output_type": "execute_result"
    }
   ],
   "source": [
    "df = pd.read_excel(r'C:\\Users\\lucas\\Desktop\\People_Analytics.xlsx',\n",
    "                                sheet_name= 'BaseDados', index_col = 'N')\n",
    "df"
   ]
  },
  {
   "cell_type": "markdown",
   "metadata": {},
   "source": [
    "## Análise exploratória inicial"
   ]
  },
  {
   "cell_type": "markdown",
   "metadata": {},
   "source": [
    "O método `info` mosta algumas informações como os tipos das variáveis, quantidade de dados não nulos e as colunas do dataframe."
   ]
  },
  {
   "cell_type": "code",
   "execution_count": 3,
   "metadata": {},
   "outputs": [
    {
     "name": "stdout",
     "output_type": "stream",
     "text": [
      "<class 'pandas.core.frame.DataFrame'>\n",
      "Int64Index: 36 entries, 1 to 36\n",
      "Data columns (total 6 columns):\n",
      " #   Column           Non-Null Count  Dtype  \n",
      "---  ------           --------------  -----  \n",
      " 0   estado_civil     36 non-null     object \n",
      " 1   grau_instrucao   36 non-null     object \n",
      " 2   n_filhos         20 non-null     float64\n",
      " 3   salario          36 non-null     float64\n",
      " 4   idade_anos       36 non-null     int64  \n",
      " 5   reg_procedencia  36 non-null     object \n",
      "dtypes: float64(2), int64(1), object(3)\n",
      "memory usage: 2.0+ KB\n"
     ]
    }
   ],
   "source": [
    "df.info()"
   ]
  },
  {
   "cell_type": "markdown",
   "metadata": {},
   "source": [
    "## Transformação das variáveis categoricas"
   ]
  },
  {
   "cell_type": "markdown",
   "metadata": {},
   "source": [
    "Para que o pandas identifique quais são as variáveis que são consideradas categoricas para necessário fazer essa distinção."
   ]
  },
  {
   "cell_type": "code",
   "execution_count": 4,
   "metadata": {},
   "outputs": [],
   "source": [
    "df[['estado_civil', 'grau_instrucao', 'reg_procedencia']] = df[['estado_civil', 'grau_instrucao', 'reg_procedencia']].astype('category')"
   ]
  },
  {
   "cell_type": "markdown",
   "metadata": {},
   "source": [
    "DataFrame com as variáveis categóricas classificadas."
   ]
  },
  {
   "cell_type": "code",
   "execution_count": 5,
   "metadata": {},
   "outputs": [
    {
     "name": "stdout",
     "output_type": "stream",
     "text": [
      "<class 'pandas.core.frame.DataFrame'>\n",
      "Int64Index: 36 entries, 1 to 36\n",
      "Data columns (total 6 columns):\n",
      " #   Column           Non-Null Count  Dtype   \n",
      "---  ------           --------------  -----   \n",
      " 0   estado_civil     36 non-null     category\n",
      " 1   grau_instrucao   36 non-null     category\n",
      " 2   n_filhos         20 non-null     float64 \n",
      " 3   salario          36 non-null     float64 \n",
      " 4   idade_anos       36 non-null     int64   \n",
      " 5   reg_procedencia  36 non-null     category\n",
      "dtypes: category(3), float64(2), int64(1)\n",
      "memory usage: 1.5 KB\n"
     ]
    }
   ],
   "source": [
    "df.info()"
   ]
  },
  {
   "cell_type": "markdown",
   "metadata": {},
   "source": [
    "## Distribuição do grau de instrução"
   ]
  },
  {
   "cell_type": "code",
   "execution_count": 6,
   "metadata": {},
   "outputs": [
    {
     "data": {
      "text/plain": [
       "<matplotlib.axes._subplots.AxesSubplot at 0x28b35365700>"
      ]
     },
     "execution_count": 6,
     "metadata": {},
     "output_type": "execute_result"
    },
    {
     "data": {
      "image/png": "[encoded data removed]",
      "text/plain": [
       "<Figure size 1008x576 with 1 Axes>"
      ]
     },
     "metadata": {
      "needs_background": "light"
     },
     "output_type": "display_data"
    }
   ],
   "source": [
    "df.groupby('grau_instrucao').size().plot.bar(figsize=(14,8))"
   ]
  },
  {
   "cell_type": "markdown",
   "metadata": {},
   "source": [
    "## Boxplot (Seaborn)"
   ]
  },
  {
   "cell_type": "code",
   "execution_count": 13,
   "metadata": {},
   "outputs": [
    {
     "data": {
      "image/png": "[encoded data removed]",
      "text/plain": [
       "<Figure size 432x288 with 1 Axes>"
      ]
     },
     "metadata": {},
     "output_type": "display_data"
    }
   ],
   "source": [
    "df_melted = df[['n_filhos', 'salario', 'idade_anos']].melt()\n",
    "sns.set_style(style='whitegrid')\n",
    "sns.boxplot(data=df_melted, x='variable', y='value', palette='Set1')\n",
    "sns.set(rc={'figure.figsize':(14,8)})"
   ]
  },
  {
   "cell_type": "markdown",
   "metadata": {},
   "source": [
    "## Resumo estastístico "
   ]
  },
  {
   "cell_type": "markdown",
   "metadata": {},
   "source": [
    "A função describe tem a função de retornar variáveis como: contagem, média, desvio padrão, valor mínimo, quartis, média, mediana e máximo."
   ]
  },
  {
   "cell_type": "code",
   "execution_count": 7,
   "metadata": {},
   "outputs": [
    {
     "data": {
      "text/html": [
       "<div>\n",
       "<style scoped>\n",
       "    .dataframe tbody tr th:only-of-type {\n",
       "        vertical-align: middle;\n",
       "    }\n",
       "\n",
       "    .dataframe tbody tr th {\n",
       "        vertical-align: top;\n",
       "    }\n",
       "\n",
       "    .dataframe thead th {\n",
       "        text-align: right;\n",
       "    }\n",
       "</style>\n",
       "<table border=\"1\" class=\"dataframe\">\n",
       "  <thead>\n",
       "    <tr style=\"text-align: right;\">\n",
       "      <th></th>\n",
       "      <th>n_filhos</th>\n",
       "      <th>salario</th>\n",
       "      <th>idade_anos</th>\n",
       "    </tr>\n",
       "  </thead>\n",
       "  <tbody>\n",
       "    <tr>\n",
       "      <th>count</th>\n",
       "      <td>20.000000</td>\n",
       "      <td>36.000000</td>\n",
       "      <td>36.000000</td>\n",
       "    </tr>\n",
       "    <tr>\n",
       "      <th>mean</th>\n",
       "      <td>1.650000</td>\n",
       "      <td>11.122222</td>\n",
       "      <td>34.583333</td>\n",
       "    </tr>\n",
       "    <tr>\n",
       "      <th>std</th>\n",
       "      <td>1.268028</td>\n",
       "      <td>4.587458</td>\n",
       "      <td>6.737422</td>\n",
       "    </tr>\n",
       "    <tr>\n",
       "      <th>min</th>\n",
       "      <td>0.000000</td>\n",
       "      <td>4.000000</td>\n",
       "      <td>20.000000</td>\n",
       "    </tr>\n",
       "    <tr>\n",
       "      <th>25%</th>\n",
       "      <td>1.000000</td>\n",
       "      <td>7.552500</td>\n",
       "      <td>30.000000</td>\n",
       "    </tr>\n",
       "    <tr>\n",
       "      <th>50%</th>\n",
       "      <td>2.000000</td>\n",
       "      <td>10.165000</td>\n",
       "      <td>34.500000</td>\n",
       "    </tr>\n",
       "    <tr>\n",
       "      <th>75%</th>\n",
       "      <td>2.000000</td>\n",
       "      <td>14.060000</td>\n",
       "      <td>40.000000</td>\n",
       "    </tr>\n",
       "    <tr>\n",
       "      <th>max</th>\n",
       "      <td>5.000000</td>\n",
       "      <td>23.300000</td>\n",
       "      <td>48.000000</td>\n",
       "    </tr>\n",
       "  </tbody>\n",
       "</table>\n",
       "</div>"
      ],
      "text/plain": [
       "        n_filhos    salario  idade_anos\n",
       "count  20.000000  36.000000   36.000000\n",
       "mean    1.650000  11.122222   34.583333\n",
       "std     1.268028   4.587458    6.737422\n",
       "min     0.000000   4.000000   20.000000\n",
       "25%     1.000000   7.552500   30.000000\n",
       "50%     2.000000  10.165000   34.500000\n",
       "75%     2.000000  14.060000   40.000000\n",
       "max     5.000000  23.300000   48.000000"
      ]
     },
     "execution_count": 7,
     "metadata": {},
     "output_type": "execute_result"
    }
   ],
   "source": [
    "df.describe()"
   ]
  },
  {
   "cell_type": "markdown",
   "metadata": {},
   "source": [
    "## Funções estatísticas"
   ]
  },
  {
   "cell_type": "markdown",
   "metadata": {},
   "source": [
    "### Média"
   ]
  },
  {
   "cell_type": "code",
   "execution_count": 8,
   "metadata": {},
   "outputs": [
    {
     "name": "stdout",
     "output_type": "stream",
     "text": [
      "n_filhos       0.0\n",
      "salario        4.0\n",
      "idade_anos    20.0\n",
      "dtype: float64\n",
      "____________________\n",
      "n_filhos       5.0\n",
      "salario       23.3\n",
      "idade_anos    48.0\n",
      "dtype: float64\n"
     ]
    }
   ],
   "source": [
    "print(df[['n_filhos', 'salario', 'idade_anos']].min())\n",
    "print(20*'_')\n",
    "print(df[['n_filhos', 'salario', 'idade_anos']].max())"
   ]
  },
  {
   "cell_type": "code",
   "execution_count": 9,
   "metadata": {},
   "outputs": [
    {
     "data": {
      "text/plain": [
       "n_filhos       1.650000\n",
       "salario       11.122222\n",
       "idade_anos    34.583333\n",
       "dtype: float64"
      ]
     },
     "execution_count": 9,
     "metadata": {},
     "output_type": "execute_result"
    }
   ],
   "source": [
    "df.mean()"
   ]
  },
  {
   "cell_type": "markdown",
   "metadata": {},
   "source": [
    "### Mediana"
   ]
  },
  {
   "cell_type": "code",
   "execution_count": 10,
   "metadata": {},
   "outputs": [
    {
     "name": "stdout",
     "output_type": "stream",
     "text": [
      "A médiana do número de filhos é: 2\n",
      "A médiana do salário é: 10.16\n",
      "A médiana da idade é: 34.50\n"
     ]
    }
   ],
   "source": [
    "print('A mediana do número de filhos é: %i' % median(df[['n_filhos']].dropna(axis=0)))\n",
    "print('A mediana do salário é: %.2f' % median(df[['salario']]))\n",
    "print('A mediana da idade é: %.2f' % median(df[['idade_anos']]))"
   ]
  },
  {
   "cell_type": "markdown",
   "metadata": {},
   "source": [
    "### Moda"
   ]
  },
  {
   "cell_type": "code",
   "execution_count": 11,
   "metadata": {},
   "outputs": [
    {
     "name": "stdout",
     "output_type": "stream",
     "text": [
      "A moda para a coluna estado_civil é: casado\n",
      "A moda para a coluna grau_instrucao é: 2-ensino medio\n",
      "A moda para a coluna n_filhos é: 2.0\n",
      "A moda para a coluna salario é: 4.0\n",
      "A moda para a coluna idade_anos é: 26\n",
      "A moda para a coluna reg_procedencia é: outra\n"
     ]
    }
   ],
   "source": [
    "for i in df.columns:\n",
    "    print('A moda para a coluna', str(i),'é:', mode(df[i])[0][0])"
   ]
  },
  {
   "cell_type": "markdown",
   "metadata": {},
   "source": [
    "### Coeficiente de assimetria"
   ]
  },
  {
   "cell_type": "code",
   "execution_count": 14,
   "metadata": {},
   "outputs": [
    {
     "name": "stdout",
     "output_type": "stream",
     "text": [
      "O coeficiente de assimetria da coluna n_filhos é: 0.69\n",
      "O coeficiente de assimetria da coluna salario é: 0.63\n",
      "O coeficiente de assimetria da coluna idade_anos é: -0.06\n"
     ]
    }
   ],
   "source": [
    "for i in ['n_filhos', 'salario', 'idade_anos']:\n",
    "    print('O coeficiente de assimetria da coluna %s é: %.2f' % (i, skew(df[i].dropna(axis=0))))"
   ]
  },
  {
   "cell_type": "markdown",
   "metadata": {},
   "source": [
    "## Variância Populacional"
   ]
  },
  {
   "cell_type": "markdown",
   "metadata": {},
   "source": [
    "A variância populacional é a média aritmética dos desvios dos dados em relação a média.\n",
    "\n",
    "A função que será utilizada é `var` do numpy, documentação no link: https://numpy.org/doc/stable/reference/generated/numpy.var.html?highlight=var#numpy.var."
   ]
  },
  {
   "cell_type": "code",
   "execution_count": 15,
   "metadata": {},
   "outputs": [
    {
     "data": {
      "text/plain": [
       "n_filhos       1.527500\n",
       "salario       20.460190\n",
       "idade_anos    44.131944\n",
       "dtype: float64"
      ]
     },
     "execution_count": 15,
     "metadata": {},
     "output_type": "execute_result"
    }
   ],
   "source": [
    "var(df)"
   ]
  },
  {
   "cell_type": "markdown",
   "metadata": {},
   "source": [
    "## Desvio padrão Populacional"
   ]
  },
  {
   "cell_type": "markdown",
   "metadata": {},
   "source": [
    "O desvio padrão populacional é a raiz quadrada da variância populacional.\n",
    "\n",
    "A função utilizada é `std` do numpy, a documentação segue no link: https://numpy.org/doc/stable/reference/generated/numpy.std.html?highlight=std#numpy.std."
   ]
  },
  {
   "cell_type": "code",
   "execution_count": 16,
   "metadata": {},
   "outputs": [
    {
     "data": {
      "text/plain": [
       "n_filhos      1.235921\n",
       "salario       4.523294\n",
       "idade_anos    6.643188\n",
       "dtype: float64"
      ]
     },
     "execution_count": 16,
     "metadata": {},
     "output_type": "execute_result"
    }
   ],
   "source": [
    "std(df)"
   ]
  },
  {
   "cell_type": "markdown",
   "metadata": {},
   "source": [
    "## Variância Amostral"
   ]
  },
  {
   "cell_type": "markdown",
   "metadata": {},
   "source": [
    "A variância amostral é calculada praticamente igual a populacinal, todavia apresenta um penalidade de uma unidade no denominador.\n",
    "\n",
    "Para calcular a variância amostral é somente penalizar o denominador, que é realizada acrescentando o argumento `ddof = 1` na função `var`."
   ]
  },
  {
   "cell_type": "code",
   "execution_count": 17,
   "metadata": {},
   "outputs": [
    {
     "data": {
      "text/plain": [
       "n_filhos       1.607895\n",
       "salario       21.044766\n",
       "idade_anos    45.392857\n",
       "dtype: float64"
      ]
     },
     "execution_count": 17,
     "metadata": {},
     "output_type": "execute_result"
    }
   ],
   "source": [
    "var(df, ddof=1)"
   ]
  },
  {
   "cell_type": "markdown",
   "metadata": {},
   "source": [
    "## Desvio padrão amostral"
   ]
  },
  {
   "cell_type": "markdown",
   "metadata": {},
   "source": [
    "O desvio padrão amostral é a raiz quadrada da variância amostral."
   ]
  },
  {
   "cell_type": "code",
   "execution_count": 18,
   "metadata": {},
   "outputs": [
    {
     "data": {
      "text/plain": [
       "n_filhos      1.268028\n",
       "salario       4.587458\n",
       "idade_anos    6.737422\n",
       "dtype: float64"
      ]
     },
     "execution_count": 18,
     "metadata": {},
     "output_type": "execute_result"
    }
   ],
   "source": [
    "std(df, ddof=1)"
   ]
  },
  {
   "cell_type": "markdown",
   "metadata": {},
   "source": [
    "## Coeficiente de variação"
   ]
  },
  {
   "cell_type": "markdown",
   "metadata": {},
   "source": [
    "O coeficiente de variação é a variação relativa entre o desvio padrão e a média dos dados.\n",
    "\n",
    "A documentação da função `variation` no Scipy está no link: https://docs.scipy.org/doc/scipy/reference/generated/scipy.stats.variation.html#scipy.stats.variation"
   ]
  },
  {
   "cell_type": "code",
   "execution_count": 19,
   "metadata": {},
   "outputs": [
    {
     "name": "stdout",
     "output_type": "stream",
     "text": [
      "O coeficiente de assimetria da coluna n_filhos é: 0.7490\n",
      "O coeficiente de assimetria da coluna salario é: 0.4067\n",
      "O coeficiente de assimetria da coluna idade_anos é: 0.1921\n"
     ]
    }
   ],
   "source": [
    "for i in ['n_filhos', 'salario', 'idade_anos']:\n",
    "    print('O coeficiente de assimetria da coluna %s é: %.4f' % (i, variation(df[i].dropna(axis=0))))"
   ]
  },
  {
   "cell_type": "code",
   "execution_count": 20,
   "metadata": {},
   "outputs": [
    {
     "data": {
      "text/plain": [
       "masked_array(data=[0.7490428542005015, 0.40668977913210774,\n",
       "                   0.19209217799876416],\n",
       "             mask=[False, False, False],\n",
       "       fill_value=1e+20)"
      ]
     },
     "execution_count": 20,
     "metadata": {},
     "output_type": "execute_result"
    }
   ],
   "source": [
    "variation(df[['n_filhos', 'salario', 'idade_anos']], nan_policy='omit')"
   ]
  },
  {
   "cell_type": "markdown",
   "metadata": {},
   "source": [
    "# Problema 1"
   ]
  },
  {
   "cell_type": "markdown",
   "metadata": {},
   "source": [
    "Carregando a base de dados de clientes de uma financeira."
   ]
  },
  {
   "cell_type": "code",
   "execution_count": 21,
   "metadata": {},
   "outputs": [
    {
     "data": {
      "text/html": [
       "<div>\n",
       "<style scoped>\n",
       "    .dataframe tbody tr th:only-of-type {\n",
       "        vertical-align: middle;\n",
       "    }\n",
       "\n",
       "    .dataframe tbody tr th {\n",
       "        vertical-align: top;\n",
       "    }\n",
       "\n",
       "    .dataframe thead th {\n",
       "        text-align: right;\n",
       "    }\n",
       "</style>\n",
       "<table border=\"1\" class=\"dataframe\">\n",
       "  <thead>\n",
       "    <tr style=\"text-align: right;\">\n",
       "      <th></th>\n",
       "      <th>Código do Cliente</th>\n",
       "      <th>Idade</th>\n",
       "      <th>Rendimento Total</th>\n",
       "      <th>Salário</th>\n",
       "      <th>Limite de Crédito Imediato</th>\n",
       "      <th>Limite do Cheque Especial</th>\n",
       "    </tr>\n",
       "  </thead>\n",
       "  <tbody>\n",
       "    <tr>\n",
       "      <th>0</th>\n",
       "      <td>12</td>\n",
       "      <td>72</td>\n",
       "      <td>4300.0</td>\n",
       "      <td>4300.0</td>\n",
       "      <td>2000</td>\n",
       "      <td>1000</td>\n",
       "    </tr>\n",
       "    <tr>\n",
       "      <th>1</th>\n",
       "      <td>44</td>\n",
       "      <td>75</td>\n",
       "      <td>4400.0</td>\n",
       "      <td>4400.0</td>\n",
       "      <td>3000</td>\n",
       "      <td>1000</td>\n",
       "    </tr>\n",
       "    <tr>\n",
       "      <th>2</th>\n",
       "      <td>30</td>\n",
       "      <td>66</td>\n",
       "      <td>4800.0</td>\n",
       "      <td>4800.0</td>\n",
       "      <td>440</td>\n",
       "      <td>1500</td>\n",
       "    </tr>\n",
       "    <tr>\n",
       "      <th>3</th>\n",
       "      <td>2</td>\n",
       "      <td>35</td>\n",
       "      <td>5000.0</td>\n",
       "      <td>5000.0</td>\n",
       "      <td>1000</td>\n",
       "      <td>1000</td>\n",
       "    </tr>\n",
       "    <tr>\n",
       "      <th>4</th>\n",
       "      <td>35</td>\n",
       "      <td>69</td>\n",
       "      <td>5000.0</td>\n",
       "      <td>5000.0</td>\n",
       "      <td>2000</td>\n",
       "      <td>2500</td>\n",
       "    </tr>\n",
       "  </tbody>\n",
       "</table>\n",
       "</div>"
      ],
      "text/plain": [
       "   Código do Cliente  Idade  Rendimento Total  Salário  \\\n",
       "0                 12     72            4300.0   4300.0   \n",
       "1                 44     75            4400.0   4400.0   \n",
       "2                 30     66            4800.0   4800.0   \n",
       "3                  2     35            5000.0   5000.0   \n",
       "4                 35     69            5000.0   5000.0   \n",
       "\n",
       "   Limite de Crédito Imediato  Limite do Cheque Especial  \n",
       "0                        2000                       1000  \n",
       "1                        3000                       1000  \n",
       "2                         440                       1500  \n",
       "3                        1000                       1000  \n",
       "4                        2000                       2500  "
      ]
     },
     "execution_count": 21,
     "metadata": {},
     "output_type": "execute_result"
    }
   ],
   "source": [
    "df_cred = pd.read_excel(r\"C:\\Users\\lucas\\Desktop\\Exercícios.xlsx\", sheet_name='Base de Dados 1')\n",
    "df_cred.head()"
   ]
  },
  {
   "cell_type": "markdown",
   "metadata": {},
   "source": [
    "Resumo estastístico."
   ]
  },
  {
   "cell_type": "code",
   "execution_count": 22,
   "metadata": {},
   "outputs": [
    {
     "data": {
      "text/html": [
       "<div>\n",
       "<style scoped>\n",
       "    .dataframe tbody tr th:only-of-type {\n",
       "        vertical-align: middle;\n",
       "    }\n",
       "\n",
       "    .dataframe tbody tr th {\n",
       "        vertical-align: top;\n",
       "    }\n",
       "\n",
       "    .dataframe thead th {\n",
       "        text-align: right;\n",
       "    }\n",
       "</style>\n",
       "<table border=\"1\" class=\"dataframe\">\n",
       "  <thead>\n",
       "    <tr style=\"text-align: right;\">\n",
       "      <th></th>\n",
       "      <th>Código do Cliente</th>\n",
       "      <th>Idade</th>\n",
       "      <th>Rendimento Total</th>\n",
       "      <th>Salário</th>\n",
       "      <th>Limite de Crédito Imediato</th>\n",
       "      <th>Limite do Cheque Especial</th>\n",
       "    </tr>\n",
       "  </thead>\n",
       "  <tbody>\n",
       "    <tr>\n",
       "      <th>count</th>\n",
       "      <td>48.00</td>\n",
       "      <td>48.000000</td>\n",
       "      <td>48.000000</td>\n",
       "      <td>48.000000</td>\n",
       "      <td>48.000000</td>\n",
       "      <td>48.000000</td>\n",
       "    </tr>\n",
       "    <tr>\n",
       "      <th>mean</th>\n",
       "      <td>24.50</td>\n",
       "      <td>60.979167</td>\n",
       "      <td>12275.073750</td>\n",
       "      <td>10507.115417</td>\n",
       "      <td>2175.208333</td>\n",
       "      <td>5620.729167</td>\n",
       "    </tr>\n",
       "    <tr>\n",
       "      <th>std</th>\n",
       "      <td>14.00</td>\n",
       "      <td>15.049549</td>\n",
       "      <td>12640.653748</td>\n",
       "      <td>9332.171094</td>\n",
       "      <td>938.094469</td>\n",
       "      <td>6131.900367</td>\n",
       "    </tr>\n",
       "    <tr>\n",
       "      <th>min</th>\n",
       "      <td>1.00</td>\n",
       "      <td>30.000000</td>\n",
       "      <td>4300.000000</td>\n",
       "      <td>4027.000000</td>\n",
       "      <td>340.000000</td>\n",
       "      <td>500.000000</td>\n",
       "    </tr>\n",
       "    <tr>\n",
       "      <th>25%</th>\n",
       "      <td>12.75</td>\n",
       "      <td>47.000000</td>\n",
       "      <td>6380.000000</td>\n",
       "      <td>5950.000000</td>\n",
       "      <td>1925.000000</td>\n",
       "      <td>2262.500000</td>\n",
       "    </tr>\n",
       "    <tr>\n",
       "      <th>50%</th>\n",
       "      <td>24.50</td>\n",
       "      <td>66.000000</td>\n",
       "      <td>8400.000000</td>\n",
       "      <td>7400.000000</td>\n",
       "      <td>2000.000000</td>\n",
       "      <td>3550.000000</td>\n",
       "    </tr>\n",
       "    <tr>\n",
       "      <th>75%</th>\n",
       "      <td>36.25</td>\n",
       "      <td>70.000000</td>\n",
       "      <td>12378.135000</td>\n",
       "      <td>10163.000000</td>\n",
       "      <td>3000.000000</td>\n",
       "      <td>6500.000000</td>\n",
       "    </tr>\n",
       "    <tr>\n",
       "      <th>max</th>\n",
       "      <td>48.00</td>\n",
       "      <td>94.000000</td>\n",
       "      <td>81000.000000</td>\n",
       "      <td>54500.000000</td>\n",
       "      <td>3500.000000</td>\n",
       "      <td>35000.000000</td>\n",
       "    </tr>\n",
       "  </tbody>\n",
       "</table>\n",
       "</div>"
      ],
      "text/plain": [
       "       Código do Cliente      Idade  Rendimento Total       Salário  \\\n",
       "count              48.00  48.000000         48.000000     48.000000   \n",
       "mean               24.50  60.979167      12275.073750  10507.115417   \n",
       "std                14.00  15.049549      12640.653748   9332.171094   \n",
       "min                 1.00  30.000000       4300.000000   4027.000000   \n",
       "25%                12.75  47.000000       6380.000000   5950.000000   \n",
       "50%                24.50  66.000000       8400.000000   7400.000000   \n",
       "75%                36.25  70.000000      12378.135000  10163.000000   \n",
       "max                48.00  94.000000      81000.000000  54500.000000   \n",
       "\n",
       "       Limite de Crédito Imediato  Limite do Cheque Especial  \n",
       "count                   48.000000                  48.000000  \n",
       "mean                  2175.208333                5620.729167  \n",
       "std                    938.094469                6131.900367  \n",
       "min                    340.000000                 500.000000  \n",
       "25%                   1925.000000                2262.500000  \n",
       "50%                   2000.000000                3550.000000  \n",
       "75%                   3000.000000                6500.000000  \n",
       "max                   3500.000000               35000.000000  "
      ]
     },
     "execution_count": 22,
     "metadata": {},
     "output_type": "execute_result"
    }
   ],
   "source": [
    "df_cred.describe()"
   ]
  },
  {
   "cell_type": "markdown",
   "metadata": {},
   "source": [
    "Não temos na base de dados valores faltantes (`null`)."
   ]
  },
  {
   "cell_type": "code",
   "execution_count": 23,
   "metadata": {},
   "outputs": [
    {
     "name": "stdout",
     "output_type": "stream",
     "text": [
      "<class 'pandas.core.frame.DataFrame'>\n",
      "RangeIndex: 48 entries, 0 to 47\n",
      "Data columns (total 6 columns):\n",
      " #   Column                      Non-Null Count  Dtype  \n",
      "---  ------                      --------------  -----  \n",
      " 0   Código do Cliente           48 non-null     int64  \n",
      " 1   Idade                       48 non-null     int64  \n",
      " 2   Rendimento Total            48 non-null     float64\n",
      " 3   Salário                     48 non-null     float64\n",
      " 4   Limite de Crédito Imediato  48 non-null     int64  \n",
      " 5   Limite do Cheque Especial   48 non-null     int64  \n",
      "dtypes: float64(2), int64(4)\n",
      "memory usage: 2.4 KB\n"
     ]
    }
   ],
   "source": [
    "df_cred.info()"
   ]
  },
  {
   "cell_type": "markdown",
   "metadata": {},
   "source": [
    "Qual a idade média dos clientes presentes no banco de dados? "
   ]
  },
  {
   "cell_type": "code",
   "execution_count": 24,
   "metadata": {},
   "outputs": [
    {
     "name": "stdout",
     "output_type": "stream",
     "text": [
      "A idade média dos clientes é: 60.98\n"
     ]
    }
   ],
   "source": [
    "print('A idade média dos clientes é: %.2f' % df_cred.Idade.mean())"
   ]
  },
  {
   "cell_type": "code",
   "execution_count": 25,
   "metadata": {},
   "outputs": [
    {
     "data": {
      "text/plain": [
       "count    48.000000\n",
       "mean     60.979167\n",
       "std      15.049549\n",
       "min      30.000000\n",
       "25%      47.000000\n",
       "50%      66.000000\n",
       "75%      70.000000\n",
       "max      94.000000\n",
       "Name: Idade, dtype: float64"
      ]
     },
     "execution_count": 25,
     "metadata": {},
     "output_type": "execute_result"
    }
   ],
   "source": [
    "df_cred.Idade.describe()"
   ]
  },
  {
   "cell_type": "markdown",
   "metadata": {},
   "source": [
    "- Mínimo = 30\n",
    "- Máximo = 94\n",
    "- Mediana = 66\n",
    "- 1º Quartil = 47\n",
    "- 3º Quartil = 70"
   ]
  },
  {
   "cell_type": "markdown",
   "metadata": {},
   "source": [
    "Existem clientes com idades discrepantes? Analise o boxplot.\n"
   ]
  },
  {
   "cell_type": "code",
   "execution_count": 26,
   "metadata": {},
   "outputs": [
    {
     "data": {
      "image/png": "[encoded data removed]",
      "text/plain": [
       "<Figure size 1008x576 with 1 Axes>"
      ]
     },
     "metadata": {},
     "output_type": "display_data"
    }
   ],
   "source": [
    "sns.set_style(style='whitegrid')\n",
    "sns.boxplot(data=df_cred.Idade, palette='Set1')\n",
    "sns.set(rc={'figure.figsize':(14,8)})"
   ]
  },
  {
   "cell_type": "markdown",
   "metadata": {},
   "source": [
    "Existem clientes que possuem rendimento total discrepante em relação aos demais clientes? Analise o boxplot. "
   ]
  },
  {
   "cell_type": "code",
   "execution_count": 27,
   "metadata": {},
   "outputs": [
    {
     "data": {
      "image/png": "[encoded data removed]",
      "text/plain": [
       "<Figure size 1008x576 with 1 Axes>"
      ]
     },
     "metadata": {},
     "output_type": "display_data"
    }
   ],
   "source": [
    "sns.set_style(style='whitegrid')\n",
    "sns.boxplot(data=df_cred['Rendimento Total'], palette='Set2')\n",
    "sns.set(rc={'figure.figsize':(14,8)})"
   ]
  },
  {
   "cell_type": "markdown",
   "metadata": {},
   "source": [
    "A partir de qual valor o rendimento é considerado discrepante?"
   ]
  },
  {
   "cell_type": "code",
   "execution_count": 28,
   "metadata": {},
   "outputs": [
    {
     "data": {
      "text/plain": [
       "21375.3375"
      ]
     },
     "execution_count": 28,
     "metadata": {},
     "output_type": "execute_result"
    }
   ],
   "source": [
    "#LIMITE SUPERIOR\n",
    "2.5*df_cred['Rendimento Total'].describe()[6] - 1.5*df_cred['Rendimento Total'].describe()[4]"
   ]
  },
  {
   "cell_type": "markdown",
   "metadata": {},
   "source": [
    "LS = Q3 + 1.5 * IIQ = Q3 + 1.5 (Q3 - Q1) = 2.5 * Q3 - 1.5 * Q1"
   ]
  },
  {
   "cell_type": "code",
   "execution_count": 29,
   "metadata": {},
   "outputs": [
    {
     "data": {
      "text/plain": [
       "3380.9325"
      ]
     },
     "execution_count": 29,
     "metadata": {},
     "output_type": "execute_result"
    }
   ],
   "source": [
    "#LIMITE INFERIOR\n",
    "1.5*df_cred['Rendimento Total'].describe()[4] - 0.5*df_cred['Rendimento Total'].describe()[6]"
   ]
  },
  {
   "cell_type": "markdown",
   "metadata": {},
   "source": [
    "A variável rendimento total pode ser considerada simétrica?"
   ]
  },
  {
   "cell_type": "code",
   "execution_count": 30,
   "metadata": {},
   "outputs": [
    {
     "data": {
      "text/plain": [
       "3.8524193953606383"
      ]
     },
     "execution_count": 30,
     "metadata": {},
     "output_type": "execute_result"
    }
   ],
   "source": [
    "skew(df_cred['Rendimento Total'])"
   ]
  },
  {
   "cell_type": "markdown",
   "metadata": {},
   "source": [
    "**Resposta:** Não, pois para ser considereada simetrica o coeficiente de assimetria (skewness) deverá ser próximo de zero. Que nesse caso indica que a distribuição tem uma calda a direita e a média é maior que a mediana, pois tem um valor é positivo."
   ]
  },
  {
   "cell_type": "markdown",
   "metadata": {},
   "source": [
    "Existem clientes que possuem salário discrepante em relação aos demais clientes? Analise o boxplot. "
   ]
  },
  {
   "cell_type": "code",
   "execution_count": 31,
   "metadata": {},
   "outputs": [
    {
     "data": {
      "image/png": "[encoded data removed]",
      "text/plain": [
       "<Figure size 1008x576 with 1 Axes>"
      ]
     },
     "metadata": {},
     "output_type": "display_data"
    }
   ],
   "source": [
    "sns.set_style(style='whitegrid')\n",
    "sns.boxplot(data=df_cred['Salário'], palette='Set3')\n",
    "sns.set(rc={'figure.figsize':(14,8)})"
   ]
  },
  {
   "cell_type": "markdown",
   "metadata": {},
   "source": [
    "A partir de qual valor o salário é considerado discrepante?"
   ]
  },
  {
   "cell_type": "code",
   "execution_count": 32,
   "metadata": {},
   "outputs": [
    {
     "data": {
      "text/plain": [
       "16482.5"
      ]
     },
     "execution_count": 32,
     "metadata": {},
     "output_type": "execute_result"
    }
   ],
   "source": [
    "2.5*df_cred['Salário'].describe()[6] - 1.5*df_cred['Salário'].describe()[4]"
   ]
  },
  {
   "cell_type": "markdown",
   "metadata": {},
   "source": [
    "A variável salário pode ser considerada simétrica?"
   ]
  },
  {
   "cell_type": "code",
   "execution_count": 33,
   "metadata": {},
   "outputs": [
    {
     "data": {
      "text/plain": [
       "3.1261053339315703"
      ]
     },
     "execution_count": 33,
     "metadata": {},
     "output_type": "execute_result"
    }
   ],
   "source": [
    "skew(df_cred['Salário'])"
   ]
  },
  {
   "cell_type": "markdown",
   "metadata": {},
   "source": [
    "**Resposta:** Não, pois para ser considereada simetrica o coeficiente de assimetria (skewness) deverá ser próximo de zero."
   ]
  },
  {
   "cell_type": "markdown",
   "metadata": {},
   "source": [
    "Existem clientes que possuem limite de cheque especial discrepante em relação aos demais clientes? Analise o boxplot. "
   ]
  },
  {
   "cell_type": "code",
   "execution_count": 34,
   "metadata": {},
   "outputs": [
    {
     "data": {
      "image/png": "[encoded data removed]",
      "text/plain": [
       "<Figure size 1008x576 with 1 Axes>"
      ]
     },
     "metadata": {},
     "output_type": "display_data"
    }
   ],
   "source": [
    "sns.set_style(style='whitegrid')\n",
    "sns.boxplot(data=df_cred['Limite do Cheque Especial'], palette='Spectral_r')\n",
    "sns.set(rc={'figure.figsize':(14,8)})"
   ]
  },
  {
   "cell_type": "markdown",
   "metadata": {},
   "source": [
    "A partir de qual valor o limite de cheque especial é considerado discrepante?"
   ]
  },
  {
   "cell_type": "code",
   "execution_count": 35,
   "metadata": {},
   "outputs": [
    {
     "data": {
      "text/plain": [
       "12856.25"
      ]
     },
     "execution_count": 35,
     "metadata": {},
     "output_type": "execute_result"
    }
   ],
   "source": [
    "2.5*df_cred['Limite do Cheque Especial'].describe()[6] - 1.5*df_cred['Limite do Cheque Especial'].describe()[4]"
   ]
  },
  {
   "cell_type": "markdown",
   "metadata": {},
   "source": [
    "A variável limite de cheque especial pode ser considerada simétrica?"
   ]
  },
  {
   "cell_type": "code",
   "execution_count": 36,
   "metadata": {},
   "outputs": [
    {
     "data": {
      "text/plain": [
       "2.7935197829212015"
      ]
     },
     "execution_count": 36,
     "metadata": {},
     "output_type": "execute_result"
    }
   ],
   "source": [
    "skew(df_cred['Limite do Cheque Especial'])"
   ]
  },
  {
   "cell_type": "markdown",
   "metadata": {},
   "source": [
    "**Resposta:** Não"
   ]
  },
  {
   "cell_type": "markdown",
   "metadata": {},
   "source": [
    "# Problema 2"
   ]
  },
  {
   "cell_type": "markdown",
   "metadata": {},
   "source": [
    "Carregando a base de dados utilizando a biblioteca do pandas."
   ]
  },
  {
   "cell_type": "code",
   "execution_count": 37,
   "metadata": {},
   "outputs": [
    {
     "data": {
      "text/html": [
       "<div>\n",
       "<style scoped>\n",
       "    .dataframe tbody tr th:only-of-type {\n",
       "        vertical-align: middle;\n",
       "    }\n",
       "\n",
       "    .dataframe tbody tr th {\n",
       "        vertical-align: top;\n",
       "    }\n",
       "\n",
       "    .dataframe thead th {\n",
       "        text-align: right;\n",
       "    }\n",
       "</style>\n",
       "<table border=\"1\" class=\"dataframe\">\n",
       "  <thead>\n",
       "    <tr style=\"text-align: right;\">\n",
       "      <th></th>\n",
       "      <th>ID</th>\n",
       "      <th>Sexo</th>\n",
       "      <th>Tempo_relacionamento (anos)</th>\n",
       "      <th>Num_de_Produtos</th>\n",
       "      <th>Cancelou</th>\n",
       "    </tr>\n",
       "  </thead>\n",
       "  <tbody>\n",
       "    <tr>\n",
       "      <th>0</th>\n",
       "      <td>15634602</td>\n",
       "      <td>Feminino</td>\n",
       "      <td>2</td>\n",
       "      <td>1</td>\n",
       "      <td>1</td>\n",
       "    </tr>\n",
       "    <tr>\n",
       "      <th>1</th>\n",
       "      <td>15647311</td>\n",
       "      <td>Feminino</td>\n",
       "      <td>1</td>\n",
       "      <td>1</td>\n",
       "      <td>0</td>\n",
       "    </tr>\n",
       "    <tr>\n",
       "      <th>2</th>\n",
       "      <td>15619304</td>\n",
       "      <td>Feminino</td>\n",
       "      <td>8</td>\n",
       "      <td>3</td>\n",
       "      <td>1</td>\n",
       "    </tr>\n",
       "    <tr>\n",
       "      <th>3</th>\n",
       "      <td>15701354</td>\n",
       "      <td>Feminino</td>\n",
       "      <td>1</td>\n",
       "      <td>2</td>\n",
       "      <td>0</td>\n",
       "    </tr>\n",
       "    <tr>\n",
       "      <th>4</th>\n",
       "      <td>15737888</td>\n",
       "      <td>Feminino</td>\n",
       "      <td>2</td>\n",
       "      <td>1</td>\n",
       "      <td>0</td>\n",
       "    </tr>\n",
       "  </tbody>\n",
       "</table>\n",
       "</div>"
      ],
      "text/plain": [
       "         ID      Sexo  Tempo_relacionamento (anos)  Num_de_Produtos  Cancelou\n",
       "0  15634602  Feminino                            2                1         1\n",
       "1  15647311  Feminino                            1                1         0\n",
       "2  15619304  Feminino                            8                3         1\n",
       "3  15701354  Feminino                            1                2         0\n",
       "4  15737888  Feminino                            2                1         0"
      ]
     },
     "execution_count": 37,
     "metadata": {},
     "output_type": "execute_result"
    }
   ],
   "source": [
    "df_telecom = pd.read_excel(r\"C:\\Users\\lucas\\Desktop\\Exercícios.xlsx\", sheet_name='Base de Dados 2')\n",
    "df_telecom.head()"
   ]
  },
  {
   "cell_type": "code",
   "execution_count": 59,
   "metadata": {},
   "outputs": [
    {
     "name": "stdout",
     "output_type": "stream",
     "text": [
      "<class 'pandas.core.frame.DataFrame'>\n",
      "RangeIndex: 10000 entries, 0 to 9999\n",
      "Data columns (total 5 columns):\n",
      " #   Column                       Non-Null Count  Dtype \n",
      "---  ------                       --------------  ----- \n",
      " 0   ID                           10000 non-null  int64 \n",
      " 1   Sexo                         10000 non-null  object\n",
      " 2   Tempo_relacionamento (anos)  10000 non-null  int64 \n",
      " 3   Num_de_Produtos              10000 non-null  int64 \n",
      " 4   Cancelou                     10000 non-null  int64 \n",
      "dtypes: int64(4), object(1)\n",
      "memory usage: 390.8+ KB\n"
     ]
    }
   ],
   "source": [
    "df_telecom.info()"
   ]
  },
  {
   "cell_type": "markdown",
   "metadata": {},
   "source": [
    "Quantos clientes a base de dados possui? Quantos são mulheres? E de forma relativa, quantas são mulheres?"
   ]
  },
  {
   "cell_type": "code",
   "execution_count": 38,
   "metadata": {},
   "outputs": [
    {
     "data": {
      "text/plain": [
       "10000"
      ]
     },
     "execution_count": 38,
     "metadata": {},
     "output_type": "execute_result"
    }
   ],
   "source": [
    "#Quantos clientes a base de dados possui?\n",
    "df_telecom.shape[0]"
   ]
  },
  {
   "cell_type": "code",
   "execution_count": 39,
   "metadata": {},
   "outputs": [
    {
     "data": {
      "text/plain": [
       "4543"
      ]
     },
     "execution_count": 39,
     "metadata": {},
     "output_type": "execute_result"
    }
   ],
   "source": [
    "#Quantos são mulheres?\n",
    "df_telecom.Sexo.loc[df_telecom.Sexo == 'Feminino'].count()"
   ]
  },
  {
   "cell_type": "code",
   "execution_count": 40,
   "metadata": {},
   "outputs": [
    {
     "name": "stdout",
     "output_type": "stream",
     "text": [
      "De forma relativa temos 45.43 % mulheres em nosso banco de dados.\n"
     ]
    }
   ],
   "source": [
    "#E de forma relativa, quantas são mulheres?\n",
    "fem_rel = (df_telecom.Sexo.loc[df_telecom.Sexo == 'Feminino'].count()/df_telecom.shape[0])*100\n",
    "print('De forma relativa temos {} % mulheres em nosso banco de dados.'.format(fem_rel))"
   ]
  },
  {
   "cell_type": "markdown",
   "metadata": {},
   "source": [
    "Quais são os valores da média, mediana, mínimo, máximo e quartis do tempo de relacionamento? "
   ]
  },
  {
   "cell_type": "code",
   "execution_count": 41,
   "metadata": {},
   "outputs": [
    {
     "data": {
      "text/plain": [
       "count    10000.000000\n",
       "mean         5.012800\n",
       "std          2.892174\n",
       "min          0.000000\n",
       "25%          3.000000\n",
       "50%          5.000000\n",
       "75%          7.000000\n",
       "max         10.000000\n",
       "Name: Tempo_relacionamento (anos), dtype: float64"
      ]
     },
     "execution_count": 41,
     "metadata": {},
     "output_type": "execute_result"
    }
   ],
   "source": [
    "df_telecom['Tempo_relacionamento (anos)'].describe()"
   ]
  },
  {
   "cell_type": "markdown",
   "metadata": {},
   "source": [
    "- Mínimo = 0\n",
    "- Máximo = 10\n",
    "- Mediana = 5\n",
    "- 1º Quartil = 3\n",
    "- 3º Quartil = 7"
   ]
  },
  {
   "cell_type": "markdown",
   "metadata": {},
   "source": [
    "Com base na distribuição de frequências do tempo de relacionamento, qual a proporção de clientes que ainda não completaram um ano de relacionamento? \n"
   ]
  },
  {
   "cell_type": "code",
   "execution_count": 42,
   "metadata": {},
   "outputs": [
    {
     "data": {
      "image/png": "[encoded data removed]",
      "text/plain": [
       "<Figure size 1008x576 with 1 Axes>"
      ]
     },
     "metadata": {},
     "output_type": "display_data"
    }
   ],
   "source": [
    "sns.set_style(style='whitegrid')\n",
    "sns.distplot(df_telecom[\"Tempo_relacionamento (anos)\"], kde=False)\n",
    "sns.set(rc={'figure.figsize':(14,8)})\n"
   ]
  },
  {
   "cell_type": "markdown",
   "metadata": {},
   "source": [
    "Qual a proporção de clientes que possuem 10 anos de relacionamento?"
   ]
  },
  {
   "cell_type": "code",
   "execution_count": 43,
   "metadata": {},
   "outputs": [
    {
     "name": "stdout",
     "output_type": "stream",
     "text": [
      "De forma relativa temos Tempo_relacionamento (anos)    4.9\n",
      "dtype: float64 % com 10 anos de relacionamento em nosso banco de dados.\n"
     ]
    }
   ],
   "source": [
    "rel = (df_telecom[['Tempo_relacionamento (anos)']].loc[df_telecom['Tempo_relacionamento (anos)'] == 10].count()/df_telecom.shape[0])*100\n",
    "print('De forma relativa temos {} % com 10 anos de relacionamento em nosso banco de dados.'.format(rel))"
   ]
  },
  {
   "cell_type": "markdown",
   "metadata": {},
   "source": [
    "Qual o % de clientes tem 1 produto? E 2 produtos? Utilize a variável Num_de_Produtos."
   ]
  },
  {
   "cell_type": "code",
   "execution_count": 44,
   "metadata": {},
   "outputs": [
    {
     "name": "stdout",
     "output_type": "stream",
     "text": [
      "O percentual de clientes com 1 produto: 50.84\n",
      "O percentual de clientes com 2 produto: 45.90\n"
     ]
    }
   ],
   "source": [
    "prod_1 = (df_telecom.ID.loc[df_telecom.Num_de_Produtos == 1].count()/df_telecom.shape[0])*100\n",
    "prod_2 = (df_telecom.ID.loc[df_telecom.Num_de_Produtos == 2].count()/df_telecom.shape[0])*100\n",
    "print('O percentual de clientes com 1 produto: %.2f' % prod_1)\n",
    "print('O percentual de clientes com 2 produto: %.2f' % prod_2)"
   ]
  },
  {
   "cell_type": "markdown",
   "metadata": {},
   "source": [
    "Qual o total de clientes que já cancelaram os produtos? E que não cancelaram? Qual a frequencia relativa de cada categoria? Considere 1 para o cliente que cancelou e 0 para o cliente que nao cancelou. "
   ]
  },
  {
   "cell_type": "code",
   "execution_count": 45,
   "metadata": {},
   "outputs": [
    {
     "name": "stdout",
     "output_type": "stream",
     "text": [
      "Cancelou: 2037 \n",
      "Não cancelou: 7963\n"
     ]
    }
   ],
   "source": [
    "can = df_telecom.Cancelou.loc[df_telecom.Cancelou == 1].count()\n",
    "n_can = df_telecom.Cancelou.loc[df_telecom.Cancelou == 0].count()\n",
    "print('Cancelou: %i \\nNão cancelou: %i' % (can, n_can))"
   ]
  },
  {
   "cell_type": "code",
   "execution_count": 46,
   "metadata": {},
   "outputs": [
    {
     "name": "stdout",
     "output_type": "stream",
     "text": [
      "Cancelou: 20.37 \n",
      "Não cancelou: 79.63\n"
     ]
    }
   ],
   "source": [
    "total = df_telecom.shape[0]\n",
    "can_per = can*100/total\n",
    "n_can_per = n_can*100/total\n",
    "print('Cancelou: %.2f \\nNão cancelou: %.2f' % (can_per, n_can_per))"
   ]
  },
  {
   "cell_type": "markdown",
   "metadata": {},
   "source": [
    "# Problema 3"
   ]
  },
  {
   "cell_type": "markdown",
   "metadata": {},
   "source": [
    "Carregando a base de dados."
   ]
  },
  {
   "cell_type": "code",
   "execution_count": 47,
   "metadata": {},
   "outputs": [
    {
     "data": {
      "text/html": [
       "<div>\n",
       "<style scoped>\n",
       "    .dataframe tbody tr th:only-of-type {\n",
       "        vertical-align: middle;\n",
       "    }\n",
       "\n",
       "    .dataframe tbody tr th {\n",
       "        vertical-align: top;\n",
       "    }\n",
       "\n",
       "    .dataframe thead th {\n",
       "        text-align: right;\n",
       "    }\n",
       "</style>\n",
       "<table border=\"1\" class=\"dataframe\">\n",
       "  <thead>\n",
       "    <tr style=\"text-align: right;\">\n",
       "      <th></th>\n",
       "      <th>Id_Imovel</th>\n",
       "      <th>Idade_imovel</th>\n",
       "      <th>Região</th>\n",
       "      <th>Distancia_metro_Km</th>\n",
       "      <th>Mil_reais_m2</th>\n",
       "    </tr>\n",
       "  </thead>\n",
       "  <tbody>\n",
       "    <tr>\n",
       "      <th>0</th>\n",
       "      <td>1</td>\n",
       "      <td>3. Acima de 25 anos</td>\n",
       "      <td>Norte</td>\n",
       "      <td>1.083595</td>\n",
       "      <td>7.58</td>\n",
       "    </tr>\n",
       "    <tr>\n",
       "      <th>1</th>\n",
       "      <td>2</td>\n",
       "      <td>2. 10 a 25 anos</td>\n",
       "      <td>Sul</td>\n",
       "      <td>1.396946</td>\n",
       "      <td>8.44</td>\n",
       "    </tr>\n",
       "    <tr>\n",
       "      <th>2</th>\n",
       "      <td>3</td>\n",
       "      <td>2. 10 a 25 anos</td>\n",
       "      <td>Sul</td>\n",
       "      <td>1.544789</td>\n",
       "      <td>9.46</td>\n",
       "    </tr>\n",
       "    <tr>\n",
       "      <th>3</th>\n",
       "      <td>4</td>\n",
       "      <td>2. 10 a 25 anos</td>\n",
       "      <td>Norte</td>\n",
       "      <td>1.544789</td>\n",
       "      <td>10.96</td>\n",
       "    </tr>\n",
       "    <tr>\n",
       "      <th>4</th>\n",
       "      <td>5</td>\n",
       "      <td>1. Até 10 anos</td>\n",
       "      <td>Norte</td>\n",
       "      <td>1.456010</td>\n",
       "      <td>8.62</td>\n",
       "    </tr>\n",
       "  </tbody>\n",
       "</table>\n",
       "</div>"
      ],
      "text/plain": [
       "   Id_Imovel         Idade_imovel Região  Distancia_metro_Km  Mil_reais_m2\n",
       "0          1  3. Acima de 25 anos  Norte            1.083595          7.58\n",
       "1          2      2. 10 a 25 anos    Sul            1.396946          8.44\n",
       "2          3      2. 10 a 25 anos    Sul            1.544789          9.46\n",
       "3          4      2. 10 a 25 anos  Norte            1.544789         10.96\n",
       "4          5       1. Até 10 anos  Norte            1.456010          8.62"
      ]
     },
     "execution_count": 47,
     "metadata": {},
     "output_type": "execute_result"
    }
   ],
   "source": [
    "df_imb = pd.read_excel(r\"C:\\Users\\lucas\\Desktop\\Exercícios.xlsx\", sheet_name='Base de Dados 3')\n",
    "df_imb.head()"
   ]
  },
  {
   "cell_type": "code",
   "execution_count": 60,
   "metadata": {},
   "outputs": [
    {
     "name": "stdout",
     "output_type": "stream",
     "text": [
      "<class 'pandas.core.frame.DataFrame'>\n",
      "RangeIndex: 413 entries, 0 to 412\n",
      "Data columns (total 5 columns):\n",
      " #   Column              Non-Null Count  Dtype  \n",
      "---  ------              --------------  -----  \n",
      " 0   Id_Imovel           413 non-null    int64  \n",
      " 1   Idade_imovel        413 non-null    object \n",
      " 2   Região              413 non-null    object \n",
      " 3   Distancia_metro_Km  413 non-null    float64\n",
      " 4   Mil_reais_m2        413 non-null    float64\n",
      "dtypes: float64(2), int64(1), object(2)\n",
      "memory usage: 16.3+ KB\n"
     ]
    }
   ],
   "source": [
    "df_imb.info()"
   ]
  },
  {
   "cell_type": "markdown",
   "metadata": {},
   "source": [
    "Faça a distribuição de frequências da variável idade."
   ]
  },
  {
   "cell_type": "code",
   "execution_count": 48,
   "metadata": {},
   "outputs": [
    {
     "data": {
      "text/plain": [
       "Idade_imovel\n",
       "1. Até 10 anos         109\n",
       "2. 10 a 25 anos        187\n",
       "3. Acima de 25 anos    117\n",
       "Name: Id_Imovel, dtype: int64"
      ]
     },
     "execution_count": 48,
     "metadata": {},
     "output_type": "execute_result"
    }
   ],
   "source": [
    "df_imb.groupby('Idade_imovel').count()['Id_Imovel']"
   ]
  },
  {
   "cell_type": "markdown",
   "metadata": {},
   "source": [
    "O histograma da com a distribuição de frequência absolutas das idades dos imóveis. "
   ]
  },
  {
   "cell_type": "code",
   "execution_count": 49,
   "metadata": {},
   "outputs": [
    {
     "data": {
      "text/plain": [
       "<matplotlib.axes._subplots.AxesSubplot at 0x28b360e32b0>"
      ]
     },
     "execution_count": 49,
     "metadata": {},
     "output_type": "execute_result"
    },
    {
     "data": {
      "image/png": "[encoded data removed]",
      "text/plain": [
       "<Figure size 1008x576 with 1 Axes>"
      ]
     },
     "metadata": {},
     "output_type": "display_data"
    }
   ],
   "source": [
    "df_imb.groupby('Idade_imovel').size().plot.bar()"
   ]
  },
  {
   "cell_type": "markdown",
   "metadata": {},
   "source": [
    "Faça a distribuição de frequências da variável região."
   ]
  },
  {
   "cell_type": "code",
   "execution_count": 50,
   "metadata": {},
   "outputs": [
    {
     "data": {
      "text/plain": [
       "Região\n",
       "Norte    155\n",
       "Sul      258\n",
       "Name: Id_Imovel, dtype: int64"
      ]
     },
     "execution_count": 50,
     "metadata": {},
     "output_type": "execute_result"
    }
   ],
   "source": [
    "df_imb.groupby('Região').count()['Id_Imovel']"
   ]
  },
  {
   "cell_type": "code",
   "execution_count": 51,
   "metadata": {},
   "outputs": [
    {
     "data": {
      "text/plain": [
       "<matplotlib.axes._subplots.AxesSubplot at 0x28b35be0bb0>"
      ]
     },
     "execution_count": 51,
     "metadata": {},
     "output_type": "execute_result"
    },
    {
     "data": {
      "image/png": "[encoded data removed]",
      "text/plain": [
       "<Figure size 1008x576 with 1 Axes>"
      ]
     },
     "metadata": {},
     "output_type": "display_data"
    }
   ],
   "source": [
    "df_imb.groupby('Região').size().plot.bar()"
   ]
  },
  {
   "cell_type": "markdown",
   "metadata": {},
   "source": [
    "Faça a distribuição de frequências conjunta entre as variáveis idade do imóvel e região. Você acredita que a idade do imóvel sofre influência da região? Qual região se destaca por ter imóveis mais novos (até 10 anos)?"
   ]
  },
  {
   "cell_type": "code",
   "execution_count": 52,
   "metadata": {},
   "outputs": [
    {
     "data": {
      "text/plain": [
       "<matplotlib.axes._subplots.AxesSubplot at 0x28b35fca0d0>"
      ]
     },
     "execution_count": 52,
     "metadata": {},
     "output_type": "execute_result"
    },
    {
     "data": {
      "image/png": "[encoded data removed]",
      "text/plain": [
       "<Figure size 1008x576 with 1 Axes>"
      ]
     },
     "metadata": {},
     "output_type": "display_data"
    }
   ],
   "source": [
    "total_norte = df_imb.groupby(['Região','Idade_imovel']).size()['Norte'].sum()\n",
    "total_sul = df_imb.groupby(['Região','Idade_imovel']).size()['Sul'].sum()\n",
    "\n",
    "df_imb_gruped = df_imb.groupby(['Região','Idade_imovel']).size()\n",
    "df_imb_gruped[0:3] = df_imb_gruped[0:3]/total_norte\n",
    "df_imb_gruped[3:] = df_imb_gruped[3:]/total_sul\n",
    "\n",
    "df_imb_gruped.unstack().plot.bar(stacked=True, figsize = (14,8))"
   ]
  },
  {
   "cell_type": "markdown",
   "metadata": {},
   "source": [
    "Qual o valor do mínimo, máximo, mediana, Q1 e Q3 da variável distância ao metrô? Interprete os valores. "
   ]
  },
  {
   "cell_type": "code",
   "execution_count": 53,
   "metadata": {},
   "outputs": [
    {
     "data": {
      "text/plain": [
       "count    413.000000\n",
       "mean       1.559994\n",
       "std        0.273329\n",
       "min        0.769043\n",
       "25%        1.382801\n",
       "50%        1.512455\n",
       "75%        1.777023\n",
       "max        2.141636\n",
       "Name: Distancia_metro_Km, dtype: float64"
      ]
     },
     "execution_count": 53,
     "metadata": {},
     "output_type": "execute_result"
    }
   ],
   "source": [
    "df_imb.Distancia_metro_Km.describe()"
   ]
  },
  {
   "cell_type": "markdown",
   "metadata": {},
   "source": [
    "- Mínimo = 0.76\n",
    "- Máximo = 2.14\n",
    "- Mediana = 1.51\n",
    "- 1º Quartil = 1.38\n",
    "- 3º Quartil = 1.77"
   ]
  },
  {
   "cell_type": "markdown",
   "metadata": {},
   "source": [
    "Qual o valor do mínimo, máximo, mediana, Q1 e Q3 da variável valor do imóvel (R$ mil) por m2? Interprete os valores. "
   ]
  },
  {
   "cell_type": "code",
   "execution_count": 54,
   "metadata": {},
   "outputs": [
    {
     "data": {
      "text/plain": [
       "count    413.000000\n",
       "mean       7.557530\n",
       "std        2.609219\n",
       "min        1.520000\n",
       "25%        5.540000\n",
       "50%        7.680000\n",
       "75%        9.320000\n",
       "max       15.660000\n",
       "Name: Mil_reais_m2, dtype: float64"
      ]
     },
     "execution_count": 54,
     "metadata": {},
     "output_type": "execute_result"
    }
   ],
   "source": [
    "df_imb.Mil_reais_m2.describe()"
   ]
  },
  {
   "cell_type": "markdown",
   "metadata": {},
   "source": [
    "- Mínimo = 1.52\n",
    "- Máximo = 15.66\n",
    "- Mediana = 7.68\n",
    "- 1º Quartil = 5.54\n",
    "- 3º Quartil = 9.32"
   ]
  },
  {
   "cell_type": "markdown",
   "metadata": {},
   "source": [
    "Faça o gráfico de dispersão entre a distância ao metrô e o valor do imóvel (R$ mil) por m2. Você acredita que, em geral, quanto maior a distância do imóvel até o metrô, menor o seu valor?\n"
   ]
  },
  {
   "cell_type": "code",
   "execution_count": 58,
   "metadata": {},
   "outputs": [
    {
     "data": {
      "text/plain": [
       "<matplotlib.axes._subplots.AxesSubplot at 0x28b378c8e20>"
      ]
     },
     "execution_count": 58,
     "metadata": {},
     "output_type": "execute_result"
    },
    {
     "data": {
      "image/png": "[encoded data removed]",
      "text/plain": [
       "<Figure size 1008x576 with 1 Axes>"
      ]
     },
     "metadata": {},
     "output_type": "display_data"
    }
   ],
   "source": [
    "sns.scatterplot(data=df_imb, x = \"Distancia_metro_Km\", y = 'Mil_reais_m2', hue='Idade_imovel') #coloração definida pela idade do imóvel"
   ]
  },
  {
   "cell_type": "code",
   "execution_count": 56,
   "metadata": {},
   "outputs": [
    {
     "data": {
      "text/plain": [
       "<matplotlib.axes._subplots.AxesSubplot at 0x28b368bbc40>"
      ]
     },
     "execution_count": 56,
     "metadata": {},
     "output_type": "execute_result"
    },
    {
     "data": {
      "image/png": "[encoded data removed]",
      "text/plain": [
       "<Figure size 1008x576 with 1 Axes>"
      ]
     },
     "metadata": {},
     "output_type": "display_data"
    }
   ],
   "source": [
    "sns.scatterplot(data=df_imb, x = \"Distancia_metro_Km\", y = 'Mil_reais_m2', hue='Região')"
   ]
  }
 ],
 "metadata": {
  "kernelspec": {
   "display_name": "Python 3",
   "language": "python",
   "name": "python3"
  },
  "language_info": {
   "codemirror_mode": {
    "name": "ipython",
    "version": 3
   },
   "file_extension": ".py",
   "mimetype": "text/x-python",
   "name": "python",
   "nbconvert_exporter": "python",
   "pygments_lexer": "ipython3",
   "version": "3.8.3"
  }
 },
 "nbformat": 4,
 "nbformat_minor": 4
}
