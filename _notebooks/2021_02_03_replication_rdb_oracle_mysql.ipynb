{
  "nbformat": 4,
  "nbformat_minor": 0,
  "metadata": {
    "colab": {
      "name": "2021-02-03-replication_rdb_oracle_mysql.ipynb",
      "provenance": []
    },
    "kernelspec": {
      "name": "python3",
      "display_name": "Python 3"
    }
  },
  "cells": [
    {
      "cell_type": "markdown",
      "metadata": {
        "id": "KgcDE0MXxxuK"
      },
      "source": [
        "# \"Replicação hetorogênea de banco de dados (Oracle GoldenGate)\"\r\n",
        " > \"Projeto de replicação de banco de dados relacionais usando Oracle GoldenGate.\"\r\n",
        "- toc: false\r\n",
        "- badges: true\r\n",
        "- comments: true\r\n",
        "- categories: [replicação, banco de dados]\r\n",
        "- image:"
      ]
    },
    {
      "cell_type": "markdown",
      "metadata": {
        "id": "D2DwHq2Wy7Xw"
      },
      "source": [
        "## Objetivo\r\n",
        "\r\n",
        "O projeto visa criar uma cópia de um banco de dados relacional, todavia as atualizações nesses bancos de dados serão realizada em tempo real.\r\n"
      ]
    },
    {
      "cell_type": "markdown",
      "metadata": {
        "id": "YPRxwVz61R-a"
      },
      "source": [
        "## Aplicação\r\n",
        "\r\n",
        "Esse tipo de abordagem é utilizada afim de criar um backup para um banco de dados importante para determidade organização, proporcionar para os desenvolvedores um ambiente de desenvolvimento sem afetar o banco transacional principal. Mesmo assim sem causar perdas de fidelidade e velocidade nos dados do banco transacional."
      ]
    },
    {
      "cell_type": "markdown",
      "metadata": {
        "id": "vlcyZVob1YW7"
      },
      "source": [
        "## Metodologia\r\n",
        "\r\n",
        "Para a realização do *streaming* de dados entre bancos de dados heterogênios, foi utilizado o Oracle GoldenGate. Assim, criamos um *Middleware* entre a fonte e o destino dos dados. Em virtude do desafio maior ser interligar dois bancos de dados diferentes, iremos utilizar como fonte um banco de dados Oracle e fonte MySQL, pois estes são os bancos de dados mais utilizados na atualidade {% fn 1 %}.\r\n",
        "\r\n",
        "{{ 'Fonte: https://db-engines.com/en/ranking' | fndetail: 1 }}"
      ]
    },
    {
      "cell_type": "markdown",
      "metadata": {
        "id": "j1hhd5M15yMy"
      },
      "source": [
        " ## Infraestrutura\r\n",
        "\r\n",
        " Para realizamos esse projeto da forma mais realística possível é necessário dois máquinas conectadas em uma rede de computadores. Para simularmos isso foi utilizada duas máquinas virtuais com Linux Redhat, ambas conectadas em na mesma rede.\r\n",
        "\r\n",
        "- Fonte:\r\n",
        "\r\n",
        "\r\n",
        " ![](https://github.com/lucastiagooliveira/datascience/blob/master/images/dbserver.jpg?raw=true)\r\n",
        "\r\n",
        "- Destino:\r\n",
        "\r\n",
        "\r\n",
        " ![](https://github.com/lucastiagooliveira/datascience/blob/master/images/devserver.jpg?raw=true)\r\n",
        "\r\n",
        " Assim para realizar a interface entre os BD (Bando de Dados), foi utilizado o GoldenGate conectando os duas máquinas pela rede, conforme figura abaixo:\r\n",
        "\r\n",
        " ![](https://github.com/lucastiagooliveira/datascience/blob/master/images/gg.jpg?raw=true)"
      ]
    },
    {
      "cell_type": "markdown",
      "metadata": {
        "id": "rpCvCtg771-E"
      },
      "source": [
        "## Exemplo de funcionamento"
      ]
    },
    {
      "cell_type": "markdown",
      "metadata": {
        "id": "5YcMNtWF80SN"
      },
      "source": [
        "Para verificarmos o funcionamento da replicação em tempo real, vamos utilizar os consoles dos BD's para verificar preexistentes.\r\n",
        "\r\n",
        "- Fonte (ORACLE):\r\n",
        "\r\n",
        "![](https://github.com/lucastiagooliveira/datascience/blob/master/images/preora.jpg?raw=true)\r\n",
        "\r\n",
        "- Destino (MYSQL):\r\n",
        "\r\n",
        "![](https://github.com/lucastiagooliveira/datascience/blob/master/images/premy.jpg?raw=true)\r\n",
        "\r\n",
        "Após verificarmos que os dois bancos de dados estão vazios, vamos adicionar alguns registros no banco de dados fonte (Oracle) e verificar os resultados no destino (MySQL):\r\n",
        "\r\n",
        "- Fonte:\r\n",
        "\r\n",
        "![](https://github.com/lucastiagooliveira/datascience/blob/master/images/posora.jpg?raw=true)\r\n",
        "\r\n",
        "- Destino: \r\n",
        "\r\n",
        "![](https://github.com/lucastiagooliveira/datascience/blob/master/images/posmy.jpg?raw=true)\r\n",
        "\r\n",
        "Vamos deletar um registro para verificar se a replicação acontece nesse caso também:\r\n",
        "\r\n",
        "- Fonte:\r\n",
        "\r\n",
        "![](https://github.com/lucastiagooliveira/datascience/blob/master/images/delora.jpg?raw=true)\r\n",
        "\r\n",
        "- Destino:\r\n",
        "\r\n",
        "![](https://github.com/lucastiagooliveira/datascience/blob/master/images/delmy.jpg?raw=true)\r\n",
        "\r\n",
        "Pode-se perceber pelas imagens que removemos uma linha no banco de dados fonte e essa alteração foi realizada no banco destino.\r\n"
      ]
    },
    {
      "cell_type": "markdown",
      "metadata": {
        "id": "cMZkQPaLRbXr"
      },
      "source": [
        "## Conclusão\r\n",
        "\r\n",
        "Como pode-se notar, com o Oracle GoldenGate é possível realizar a replicação de dados transacionais com qualidade e velocidade. Com a vantagem de não sobrecarregar a rede, pois carrega somente as atualizações realizadas nos arquivos de log do banco de dados fonte para o destino. Desta forma, evitando aqueles processos de ETL demorados e pesados que causam lentidão na rede coorporativa. "
      ]
    }
  ]
}